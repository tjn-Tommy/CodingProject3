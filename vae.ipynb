{
 "cells": [
  {
   "cell_type": "markdown",
   "id": "b7f85217",
   "metadata": {},
   "source": [
    "---"
   ]
  },
  {
   "cell_type": "markdown",
   "id": "718d6fe6",
   "metadata": {
    "deletable": false,
    "editable": false,
    "id": "718d6fe6",
    "nbgrader": {
     "cell_type": "markdown",
     "checksum": "446149856adbb3ece6e96de86783aab4",
     "grade": false,
     "grade_id": "cell-9c430af5d8d383e0",
     "locked": true,
     "schema_version": 3,
     "solution": false,
     "task": false
    }
   },
   "source": [
    "## Deep Learning Coding Project 3-3: Variational Auto-Encoder\n",
    "\n",
    "Before we start, please put your **Chinese** name and student ID in following format:\n",
    "\n",
    "Name, 0000000000 // e.g.) 小明, 2021123123"
   ]
  },
  {
   "cell_type": "markdown",
   "id": "e85b760d",
   "metadata": {
    "deletable": false,
    "id": "e85b760d",
    "nbgrader": {
     "cell_type": "markdown",
     "checksum": "e30c80977fd0505d51c0f3fff9f44141",
     "grade": true,
     "grade_id": "name-and-id",
     "locked": false,
     "points": 0,
     "schema_version": 3,
     "solution": true,
     "task": false
    }
   },
   "source": [
    "YOUR ANSWER HERE"
   ]
  },
  {
   "cell_type": "markdown",
   "id": "ef99bd7a",
   "metadata": {
    "deletable": false,
    "editable": false,
    "id": "ef99bd7a",
    "nbgrader": {
     "cell_type": "markdown",
     "checksum": "eabcdcf4dd697196edd6e98545dfd779",
     "grade": false,
     "grade_id": "cell-140b078480df53e1",
     "locked": true,
     "schema_version": 3,
     "solution": false,
     "task": false
    }
   },
   "source": [
    "## Introduction\n",
    "\n",
    "We will use Python 3, [NumPy](https://numpy.org/), and [PyTorch](https://pytorch.org/) packages for implementation. To avoid unexpected issues with PyTorch 2.0, we recommend using PyTorch version 1.x.\n",
    "\n",
    "In this coding project, you will implement 4 generative models, i.e., energy-based model, flow-based model, variational auto-encoder, and generative adverserial network, to generate MNIST images.\n",
    "\n",
    "**We will implement a conditional variational auto-encoder (CVAE) in this notebook.**"
   ]
  },
  {
   "cell_type": "markdown",
   "id": "455cd281",
   "metadata": {
    "deletable": false,
    "editable": false,
    "id": "455cd281",
    "nbgrader": {
     "cell_type": "markdown",
     "checksum": "120d6358fec9f6418d1267d01a2ae32b",
     "grade": false,
     "grade_id": "cell-ffacdab926dcdef6",
     "locked": true,
     "schema_version": 3,
     "solution": false,
     "task": false
    }
   },
   "source": [
    "In some cells and files you will see code blocks that look like this:\n",
    "\n",
    "```Python\n",
    "##############################################################################\n",
    "#                  TODO: You need to complete the code here                  #\n",
    "##############################################################################\n",
    "raise NotImplementedError()\n",
    "##############################################################################\n",
    "#                              END OF YOUR CODE                              #\n",
    "##############################################################################\n",
    "```\n",
    "\n",
    "You should replace `raise NotImplementedError()` with your own implementation based on the context, such as:\n",
    "\n",
    "```Python\n",
    "##############################################################################\n",
    "#                  TODO: You need to complete the code here                  #\n",
    "##############################################################################\n",
    "y = w * x + b\n",
    "##############################################################################\n",
    "#                              END OF YOUR CODE                              #\n",
    "##############################################################################\n",
    "\n",
    "```\n",
    "\n",
    "When completing the notebook, please adhere to the following rules:\n",
    "\n",
    "+ Unless otherwise stated, do not write or modify any code outside of code blocks\n",
    "+ Do not add or delete any cells from the notebook.\n",
    "+ Run all cells before submission. We will not re-run the entire codebook during grading.\n",
    "\n",
    "**Finally, avoid plagiarism! Any student who violates academic integrity will be seriously dealt with and receive an F for the course.**"
   ]
  },
  {
   "cell_type": "markdown",
   "id": "17c3bbf1",
   "metadata": {
    "deletable": false,
    "editable": false,
    "id": "17c3bbf1",
    "nbgrader": {
     "cell_type": "markdown",
     "checksum": "e0685e20987f9acc7f9a794e07e282d5",
     "grade": false,
     "grade_id": "cell-599bd6afccb34d60",
     "locked": true,
     "schema_version": 3,
     "solution": false,
     "task": false
    }
   },
   "source": [
    "### Task\n",
    "\n",
    "In this problem, you need to implement a class conditioned variational autoencoder to generate MNIST images. We suppose the prior $p(z)$ is a\n",
    "standard Gaussian distribution $\\mathcal{N} (0, I)$. Also, we assume $q(z|x, y)$ and $p(x|z, y)$\n",
    "are Gaussian distributions.\n",
    "\n",
    "1. **You need to complete the encoder $q(z|x, y; \\phi)$ and the decoder $p(x|z, y; \\theta)$, which are both MLPs**.\n",
    "\n",
    "2. **Implement the VAE loss function.**\n",
    "\n",
    "An example of generated images using CVAE is shown below."
   ]
  },
  {
   "cell_type": "markdown",
   "id": "S_3-OFIyBZgq",
   "metadata": {
    "id": "S_3-OFIyBZgq"
   },
   "source": [
    "If you use Colab in this coding project, please uncomment the cell below, change the `GOOGLE_DRIVE_PATH` to your project folder and run the following cell to mount your Google drive. Then, the notebook can find the required files (i.e., utils.py). If you run the notebook locally, you can skip this cell."
   ]
  },
  {
   "cell_type": "code",
   "execution_count": 25,
   "id": "gh9divsXBYlD",
   "metadata": {
    "id": "gh9divsXBYlD"
   },
   "outputs": [],
   "source": [
    "# ### uncomment this cell if you're using Google colab\n",
    "# from google.colab import drive\n",
    "# drive.mount('/content/drive')\n",
    "\n",
    "# ### change GOOGLE_DRIVE_PATH to the path of your CP3 folder\n",
    "# GOOGLE_DRIVE_PATH = '/content/drive/MyDrive/Colab Notebooks/DL23SP/CP3'\n",
    "# %cd $GOOGLE_DRIVE_PATH"
   ]
  },
  {
   "cell_type": "code",
   "execution_count": 26,
   "id": "646d3387",
   "metadata": {
    "deletable": false,
    "editable": false,
    "id": "646d3387",
    "nbgrader": {
     "cell_type": "code",
     "checksum": "1e9dfeecf134f0d6e60fabbca6650f6e",
     "grade": false,
     "grade_id": "cell-afeaf2ba2853c58b",
     "locked": true,
     "schema_version": 3,
     "solution": false,
     "task": false
    }
   },
   "outputs": [
    {
     "data": {
      "text/plain": [
       "<matplotlib.image.AxesImage at 0x1f2c88eb920>"
      ]
     },
     "execution_count": 26,
     "metadata": {},
     "output_type": "execute_result"
    },
    {
     "data": {
      "image/png": "[encoded data removed]",
      "text/plain": [
       "<Figure size 600x400 with 1 Axes>"
      ]
     },
     "metadata": {},
     "output_type": "display_data"
    }
   ],
   "source": [
    "import matplotlib.pyplot as plt\n",
    "import matplotlib.image as mpimg\n",
    "from matplotlib import rcParams\n",
    "\n",
    "%matplotlib inline\n",
    "\n",
    "# figure size in inches optional\n",
    "rcParams['figure.figsize'] = 6, 4\n",
    "plt.imshow(mpimg.imread('./vae/sample.png'))"
   ]
  },
  {
   "cell_type": "markdown",
   "id": "aaa645f3",
   "metadata": {
    "deletable": false,
    "editable": false,
    "id": "aaa645f3",
    "nbgrader": {
     "cell_type": "markdown",
     "checksum": "d90bf06b13439ffe089d56f4c9cf0e84",
     "grade": false,
     "grade_id": "cell-53585dd2f2b21500",
     "locked": true,
     "schema_version": 3,
     "solution": false,
     "task": false
    }
   },
   "source": [
    "### Submission\n",
    "\n",
    "You need to submit your code (this notebook), your trained VAE model (named `./vae/vae_best.pth`), your generated images, and your report:\n",
    "\n",
    "+ **Code**\n",
    "\n",
    "Remember to run all the cells before submission. Remain your tuned hyperparameters unchanged.\n",
    "\n",
    "+ **Generator**\n",
    "\n",
    "In this notebook, we select the best model based on validation loss. You can also manually select the best one, and save it as `./vae/vae_best.pth`. **Please do not submit any other checkpoints except for `./vae/vae_best.pth`!**\n",
    "\n",
    "+ **Generated Images**\n",
    "\n",
    "Please generate 100 images for each class (1000 in total), save it in `./vae/generated/`, and organize them as the following structure:\n",
    "\n",
    "```\n",
    "CodingProject3\n",
    "├── ...\n",
    "├── vae\n",
    "│   ├── vae_best.pth\n",
    "│   ├── generated\n",
    "│       └── 0\n",
    "│           ├── 0_00.png\n",
    "│           ├── ...\n",
    "│           ├── 0_99.png\n",
    "│       └── 1\n",
    "│           ├── 1_00.png\n",
    "│           ├── ...\n",
    "│           ├── 1_99.png\n",
    "│       └── ...\n",
    "│       └── 9\n",
    "│           ├── 9_00.png\n",
    "│           ├── ...\n",
    "│           ├── 9_99.png\n",
    "```\n",
    "\n",
    "Specifially, you should name the $j$-th generated image of class $i$ as `{i}_{j}.png`, and save it into folder `./vae/generated/{i}/`. Check the `make_dataset` method of VAE model for details.\n",
    "\n",
    "+ **Report**\n",
    "\n",
    "Please include the conditioned generation results (i.e., generated images in a $10\\times 10$ array as above), the FID score, the standard deviation for each class, and other relevant statistics in your\n",
    "report. Note that you only need to write a single report for this coding project."
   ]
  },
  {
   "cell_type": "markdown",
   "id": "7290dae4",
   "metadata": {
    "deletable": false,
    "editable": false,
    "id": "7290dae4",
    "nbgrader": {
     "cell_type": "markdown",
     "checksum": "01bd32341d1178eb0d90ee848af6421e",
     "grade": false,
     "grade_id": "cell-3171a074e3f52bd5",
     "locked": true,
     "schema_version": 3,
     "solution": false,
     "task": false
    }
   },
   "source": [
    "### Grading\n",
    "\n",
    "We will evaluate your model by **computing the [FID score](https://en.wikipedia.org/wiki/Fr%C3%A9chet_inception_distance)**. We have provided a fine-tuned Inception-V3 model, which will be used by our evaluation script to compute FID score."
   ]
  },
  {
   "cell_type": "markdown",
   "id": "dd040c70",
   "metadata": {
    "deletable": false,
    "editable": false,
    "id": "dd040c70",
    "nbgrader": {
     "cell_type": "markdown",
     "checksum": "54854fcdc1556d353b55bc4d1a133674",
     "grade": false,
     "grade_id": "cell-2b4bea3e44a7b81b",
     "locked": true,
     "schema_version": 3,
     "solution": false,
     "task": false
    }
   },
   "source": [
    "## Set Up Code"
   ]
  },
  {
   "cell_type": "markdown",
   "id": "4eca3738",
   "metadata": {
    "deletable": false,
    "editable": false,
    "id": "4eca3738",
    "nbgrader": {
     "cell_type": "markdown",
     "checksum": "8a46538ad10bf1933513126de21b52de",
     "grade": false,
     "grade_id": "cell-291232b1c59e4f02",
     "locked": true,
     "schema_version": 3,
     "solution": false,
     "task": false
    }
   },
   "source": [
    "If you use Colab in this coding project, please make sure to mount your drive before running the cells below."
   ]
  },
  {
   "cell_type": "code",
   "execution_count": 27,
   "id": "d8c2354b",
   "metadata": {
    "deletable": false,
    "editable": false,
    "id": "d8c2354b",
    "nbgrader": {
     "cell_type": "code",
     "checksum": "b34bc8b23f9c8e480a9671ef3453e7ac",
     "grade": false,
     "grade_id": "cell-a551fcc5ff27fb87",
     "locked": true,
     "schema_version": 3,
     "solution": false,
     "task": false
    }
   },
   "outputs": [
    {
     "name": "stdout",
     "output_type": "stream",
     "text": [
      "The autoreload extension is already loaded. To reload it, use:\n",
      "  %reload_ext autoreload\n"
     ]
    }
   ],
   "source": [
    "%load_ext autoreload\n",
    "%autoreload 2"
   ]
  },
  {
   "cell_type": "code",
   "execution_count": 28,
   "id": "f6cd2080",
   "metadata": {
    "deletable": false,
    "editable": false,
    "id": "f6cd2080",
    "nbgrader": {
     "cell_type": "code",
     "checksum": "0d5d6f96e1d7ce5df1315172b57173de",
     "grade": false,
     "grade_id": "cell-e11eaf041d72deda",
     "locked": true,
     "schema_version": 3,
     "solution": false,
     "task": false
    }
   },
   "outputs": [
    {
     "name": "stdout",
     "output_type": "stream",
     "text": [
      "Good luck!\n"
     ]
    }
   ],
   "source": [
    "from utils import hello\n",
    "hello()"
   ]
  },
  {
   "cell_type": "markdown",
   "id": "cb9634e8",
   "metadata": {
    "deletable": false,
    "editable": false,
    "id": "cb9634e8",
    "nbgrader": {
     "cell_type": "markdown",
     "checksum": "51e49fe39dad00834a151f8221d720ef",
     "grade": false,
     "grade_id": "cell-fe84c884133acb94",
     "locked": true,
     "schema_version": 3,
     "solution": false,
     "task": false
    }
   },
   "source": [
    "Please run the following cell to import some base classes for implementation (no matter whether you use colab)."
   ]
  },
  {
   "cell_type": "code",
   "execution_count": 29,
   "id": "cfad252c",
   "metadata": {
    "deletable": false,
    "editable": false,
    "id": "cfad252c",
    "nbgrader": {
     "cell_type": "code",
     "checksum": "737513904296b1d617836074f8053012",
     "grade": false,
     "grade_id": "cell-1fd41093ae57ce74",
     "locked": true,
     "schema_version": 3,
     "solution": false,
     "task": false
    }
   },
   "outputs": [],
   "source": [
    "from collections import deque\n",
    "from torch.utils.data import DataLoader\n",
    "from tqdm.autonotebook import tqdm\n",
    "\n",
    "import numpy as np\n",
    "import os\n",
    "import time\n",
    "import torch\n",
    "import torch.nn as nn\n",
    "import torch.nn.functional as F\n",
    "import torchvision\n",
    "\n",
    "from utils import save_model, load_model, train_set, val_set\n",
    "\n",
    "seed = 42\n",
    "np.random.seed(seed)\n",
    "torch.manual_seed(seed)\n",
    "torch.cuda.manual_seed(seed)\n",
    "torch.backends.cudnn.deterministic = True\n",
    "\n",
    "device = torch.device(\n",
    "    \"cuda\") if torch.cuda.is_available() else torch.device(\"cpu\")"
   ]
  },
  {
   "cell_type": "markdown",
   "id": "973e8344",
   "metadata": {
    "deletable": false,
    "editable": false,
    "id": "973e8344",
    "nbgrader": {
     "cell_type": "markdown",
     "checksum": "e41ac5a8880d05ee46863dd2b4c6e61a",
     "grade": false,
     "grade_id": "cell-90c7dca35f25c7fa",
     "locked": true,
     "schema_version": 3,
     "solution": false,
     "task": false
    }
   },
   "source": [
    "## VAE Model\n",
    "\n",
    "Complete the conditional VAE model with structure shown in doc strings.\n",
    "\n",
    "**Hint**: we usually output logarithm standard deviation."
   ]
  },
  {
   "cell_type": "code",
   "execution_count": 30,
   "id": "a4f8e820",
   "metadata": {
    "deletable": false,
    "id": "a4f8e820",
    "nbgrader": {
     "cell_type": "code",
     "checksum": "447c2a16f2258778ef4fb4dfed6ea2a4",
     "grade": false,
     "grade_id": "cell-ac7b8111ec3c40f1",
     "locked": false,
     "schema_version": 3,
     "solution": true,
     "task": false
    }
   },
   "outputs": [],
   "source": [
    "class CVAE(nn.Module):\n",
    "    def __init__(self, img_size, label_size, latent_size, hidden_size):\n",
    "        super(CVAE, self).__init__()\n",
    "        self.img_size = img_size  # (C, H, W)\n",
    "        self.label_size = label_size\n",
    "        self.latent_size = latent_size\n",
    "        self.hidden_size = hidden_size\n",
    "        \n",
    "        # Encoder.\n",
    "        self.en_img = nn.Sequential(\n",
    "            nn.Linear(np.prod(img_size), hidden_size),\n",
    "            nn.LeakyReLU(negative_slope=0.1),\n",
    "            nn.BatchNorm1d(hidden_size),\n",
    "            nn.Linear(hidden_size, hidden_size),\n",
    "            nn.LeakyReLU(negative_slope=0.1),\n",
    "            nn.BatchNorm1d(hidden_size),\n",
    "            nn.Linear(hidden_size, hidden_size),\n",
    "            nn.LeakyReLU(negative_slope=0.1),\n",
    "            nn.BatchNorm1d(hidden_size)\n",
    "        )\n",
    "        self.en_label = nn.Linear(label_size, hidden_size)\n",
    "        \n",
    "        self.conbine = nn.Sequential(\n",
    "            nn.Linear(hidden_size * 2, hidden_size),\n",
    "            nn.LeakyReLU(negative_slope=0.1),\n",
    "            nn.BatchNorm1d(hidden_size),\n",
    "            nn.Linear(hidden_size, hidden_size),\n",
    "            nn.LeakyReLU(negative_slope=0.1),\n",
    "            nn.BatchNorm1d(hidden_size),\n",
    "            nn.Linear(hidden_size, hidden_size),\n",
    "            nn.LeakyReLU(negative_slope=0.1),\n",
    "            nn.BatchNorm1d(hidden_size)\n",
    "        )\n",
    "\n",
    "        self.fc_mu = nn.Sequential(\n",
    "            nn.Linear(hidden_size, hidden_size),\n",
    "            nn.LeakyReLU(negative_slope=0.1),\n",
    "            nn.BatchNorm1d(hidden_size),\n",
    "            nn.Linear(hidden_size, int(hidden_size/2)),\n",
    "            nn.LeakyReLU(negative_slope=0.1),\n",
    "            nn.BatchNorm1d(int(hidden_size/2)),\n",
    "            nn.Linear(int(hidden_size/2), latent_size)\n",
    "        )\n",
    "        self.fc_logstd = nn.Sequential(\n",
    "            nn.Linear(hidden_size, hidden_size),\n",
    "            nn.LeakyReLU(negative_slope=0.1),\n",
    "            nn.BatchNorm1d(hidden_size),\n",
    "            nn.Linear(hidden_size, int(hidden_size/2)),\n",
    "            nn.LeakyReLU(negative_slope=0.1),\n",
    "            nn.BatchNorm1d(int(hidden_size/2)),\n",
    "            nn.Linear(int(hidden_size/2), latent_size)\n",
    "        )\n",
    "        \n",
    "        # Decoder.\n",
    "        self.de_z = nn.Sequential(\n",
    "            nn.Linear(latent_size, int(hidden_size/2)),\n",
    "            nn.LeakyReLU(negative_slope=0.1),\n",
    "            nn.BatchNorm1d(int(hidden_size/2)),\n",
    "            nn.Linear(int(hidden_size/2), hidden_size),\n",
    "            nn.LeakyReLU(negative_slope=0.1),\n",
    "            nn.BatchNorm1d(hidden_size),\n",
    "            nn.Linear(hidden_size, hidden_size),\n",
    "            nn.LeakyReLU(negative_slope=0.1),\n",
    "            nn.BatchNorm1d(hidden_size)\n",
    "        )\n",
    "        self.de_label = nn.Sequential(\n",
    "            nn.Linear(label_size, hidden_size),\n",
    "            nn.LeakyReLU(negative_slope=0.1),\n",
    "            nn.Linear(hidden_size, hidden_size)\n",
    "        )\n",
    "        self.fc_out = nn.Sequential(\n",
    "            nn.Linear(hidden_size * 2, hidden_size),\n",
    "            nn.LeakyReLU(negative_slope=0.1),\n",
    "            nn.BatchNorm1d(hidden_size),\n",
    "            nn.Linear(hidden_size, hidden_size),\n",
    "            nn.LeakyReLU(negative_slope=0.1),\n",
    "            nn.BatchNorm1d(hidden_size),\n",
    "            nn.Linear(hidden_size, np.prod(img_size)),\n",
    "            nn.Sigmoid()\n",
    "        )\n",
    "        \n",
    "    def encode_param(self, x, y):\n",
    "        # compute mu and logstd of p(z|x, y)\n",
    "        h_img = self.en_img(x.view(x.size(0), -1))\n",
    "        \n",
    "        h_label = self.en_label(y)\n",
    "        \n",
    "        h = self.conbine(torch.cat([h_img, h_label], dim=1))\n",
    "        \n",
    "        mu = self.fc_mu(h)\n",
    "        logstd = self.fc_logstd(h)\n",
    "        \n",
    "        return mu, logstd\n",
    "\n",
    "    def reparamaterize(self, mu: torch.Tensor, logstd: torch.Tensor):\n",
    "        # compute latent z with reparameterization trick\n",
    "        std = torch.exp(0.5 * logstd)\n",
    "        eps = torch.randn_like(std)\n",
    "        z = mu + eps * std\n",
    "        return z\n",
    "\n",
    "    def encode(self, x, y):\n",
    "        # sample latent z from p(z|x, y)\n",
    "        mu, logstd = self.encode_param(x, y)\n",
    "        z = self.reparamaterize(mu, logstd)\n",
    "        return z\n",
    "\n",
    "    def decode(self, z, y):\n",
    "        h_z = self.de_z(z)\n",
    "        h_label = self.de_label(y)\n",
    "        \n",
    "        h = torch.cat([h_z, h_label], dim=1)\n",
    "        \n",
    "        out = self.fc_out(h)\n",
    "        return out.view(-1, *self.img_size)\n",
    "\n",
    "    @torch.no_grad()\n",
    "    def sample_images(self, label, save=True, save_dir='./vae'):\n",
    "        self.eval()\n",
    "        n_samples = label.shape[0]\n",
    "        samples  = self.decode(torch.randn(n_samples, self.latent_size).to(label.device), label)\n",
    "        imgs = samples.view(n_samples, 1, 28, 28).clamp(0., 1.)\n",
    "        if save:\n",
    "            os.makedirs(save_dir, exist_ok=True)\n",
    "            torchvision.utils.save_image(imgs, os.path.join(save_dir, 'sample.png'), nrow=int(np.sqrt(n_samples)))\n",
    "        return imgs\n",
    "    \n",
    "    @torch.no_grad()\n",
    "    def make_dataset(self, n_samples_per_class=10, save=True, save_dir='./vae/generated/'):\n",
    "        self.eval()\n",
    "        device = next(self.parameters()).device\n",
    "        for i in range(self.label_size):\n",
    "            label = torch.zeros(n_samples_per_class, self.label_size, device=device)\n",
    "            label[:, i] = 1\n",
    "            samples = self.decode(torch.randn(\n",
    "                n_samples_per_class, self.latent_size).to(device), label)\n",
    "            imgs = samples.view(n_samples_per_class, 1, 28, 28).clamp(0., 1.)\n",
    "            if save:\n",
    "                os.makedirs(os.path.join(save_dir, str(i)), exist_ok=True)\n",
    "                for j in range(n_samples_per_class):\n",
    "                    torchvision.utils.save_image(imgs[j], os.path.join(save_dir, str(i), \"{}_{:>03d}.png\".format(i, j)))\n"
   ]
  },
  {
   "cell_type": "markdown",
   "id": "9806dfb4",
   "metadata": {
    "deletable": false,
    "editable": false,
    "id": "9806dfb4",
    "nbgrader": {
     "cell_type": "markdown",
     "checksum": "59258bed89bac2ba13c2f27ebcfc60f7",
     "grade": false,
     "grade_id": "cell-bff0aa54c09237bc",
     "locked": true,
     "schema_version": 3,
     "solution": false,
     "task": false
    }
   },
   "source": [
    "## VAE Loss\n",
    "\n",
    "Given image $x$ and corresponding label $y$, compute the VAE loss in the following function.\n",
    "\n",
    "**Hint**: $p(x|z, y)$ is a real-valued Gaussian distribution, while images are in range $[0, 1]$. Therefore, you may want to transform $x$ when computing $p(x|z, y)$."
   ]
  },
  {
   "cell_type": "code",
   "execution_count": 31,
   "id": "207ba01a",
   "metadata": {
    "deletable": false,
    "id": "207ba01a",
    "nbgrader": {
     "cell_type": "code",
     "checksum": "08f2d7d9aef79e56361662c6740977da",
     "grade": false,
     "grade_id": "cell-cde6ea3519fbcd6e",
     "locked": false,
     "schema_version": 3,
     "solution": true,
     "task": false
    }
   },
   "outputs": [],
   "source": [
    "def compute_vae_loss(vae_model, x, y, beta=1):\n",
    "    # compute vae loss for input x and label y\n",
    "    # Encode input x and label y to get latent z\n",
    "    vae_model.eval()\n",
    "    z = vae_model.encode(x, y)\n",
    "    \n",
    "    # Decode z to reconstruct the image\n",
    "    x_reconstructed = vae_model.decode(z, y)\n",
    "    \n",
    "    # Compute reconstruction loss (Binary Cross-Entropy)\n",
    "    reconstruction_loss = F.binary_cross_entropy(x_reconstructed.view(-1, vae_model.img_size[0] * vae_model.img_size[1] * vae_model.img_size[2]), \n",
    "                                                 x.view(-1, vae_model.img_size[0] * vae_model.img_size[1] * vae_model.img_size[2]), \n",
    "                                                 reduction='sum')\n",
    "    \n",
    "    # Compute the KL divergence\n",
    "    mu, logstd = vae_model.encode_param(x, y)\n",
    "    kl_divergence = -0.5 * torch.sum(1 + logstd - mu.pow(2) - logstd.exp())\n",
    "    \n",
    "    # Compute VAE loss\n",
    "    vae_loss = reconstruction_loss + beta * kl_divergence\n",
    "    \n",
    "    return vae_loss\n"
   ]
  },
  {
   "cell_type": "markdown",
   "id": "a48e81e1",
   "metadata": {
    "id": "a48e81e1"
   },
   "source": [
    "## Training & Evaluation\n",
    "\n",
    "We have implemented the training and evaluation functions. Feel free to modify `train` if you want to monitoring more information. Make sure your best model is stored in `'./vae/vae_best.pth'`."
   ]
  },
  {
   "cell_type": "code",
   "execution_count": 32,
   "id": "0ca14731",
   "metadata": {
    "deletable": false,
    "editable": false,
    "id": "0ca14731",
    "nbgrader": {
     "cell_type": "code",
     "checksum": "3dd49cb59b62e08e8b074e6d62eaacbb",
     "grade": false,
     "grade_id": "cell-de07c12138584171",
     "locked": true,
     "schema_version": 3,
     "solution": false,
     "task": false
    }
   },
   "outputs": [],
   "source": [
    "@torch.no_grad()\n",
    "def evaluate(vae_model, loader, device, beta):\n",
    "    vae_model.eval()\n",
    "    val_loss = 0\n",
    "    n_batches = 0\n",
    "\n",
    "    pbar = tqdm(total=len(loader.dataset))\n",
    "    pbar.set_description('Eval')\n",
    "    for batch_idx, (x, y) in enumerate(loader):\n",
    "        n_batches += x.shape[0]\n",
    "        x = x.view(x.shape[0], -1).to(device)\n",
    "        y = F.one_hot(y, num_classes=vae_model.label_size).to(device).float()\n",
    "\n",
    "        val_loss += compute_vae_loss(vae_model, x, y, beta).sum().item()\n",
    "        pbar.update(x.size(0))\n",
    "        pbar.set_description('Val Loss: {:.6f}'.format(val_loss / n_batches))\n",
    "\n",
    "    pbar.close()\n",
    "    return val_loss / n_batches"
   ]
  },
  {
   "cell_type": "code",
   "execution_count": 33,
   "id": "86f7857a",
   "metadata": {
    "id": "86f7857a"
   },
   "outputs": [],
   "source": [
    "def train(n_epochs, vae_model, train_loader, val_loader, optimizer, beta=1, device=torch.device('cuda'), save_interval=10):\n",
    "    vae_model.to(device)\n",
    "    best_val_loss = np.inf\n",
    "\n",
    "    for epoch in range(n_epochs):\n",
    "        train_loss = 0\n",
    "        n_batches = 0\n",
    "        pbar = tqdm(total=len(train_loader.dataset))\n",
    "        for i, (x, y) in enumerate(train_loader):\n",
    "            # compute loss\n",
    "            vae_model.train()\n",
    "            n_batches += x.shape[0]\n",
    "            x = x.view(x.shape[0], -1).to(device)\n",
    "            y = F.one_hot(y, num_classes=vae_model.label_size).to(device).float()\n",
    "            loss = compute_vae_loss(vae_model, x, y, beta)\n",
    "\n",
    "            optimizer.zero_grad()\n",
    "            loss.mean().backward()\n",
    "            optimizer.step()\n",
    "\n",
    "            train_loss += loss.sum().item()\n",
    "\n",
    "            pbar.update(x.size(0))\n",
    "            pbar.set_description('Train Epoch {}, Train Loss: {:.6f}'.format(epoch + 1, train_loss / n_batches))\n",
    "        pbar.close()\n",
    "\n",
    "        if (epoch + 1) % save_interval == 0:\n",
    "            os.makedirs(f'./vae/{epoch + 1}', exist_ok=True)\n",
    "            vae_model.eval()\n",
    "            save_model(f'./vae/{epoch + 1}/vae.pth', vae_model, optimizer)\n",
    "\n",
    "            val_loss = evaluate(vae_model, val_loader, device, beta=beta)\n",
    "\n",
    "            # sample and save images\n",
    "            label = torch.eye(10).repeat(10, 1).to(device)\n",
    "            vae_model.sample_images(\n",
    "                label, save=True, save_dir=f\"./vae/{epoch + 1}/\")\n",
    "            \n",
    "            if val_loss < best_val_loss:\n",
    "                print(\n",
    "                    f'Current validation loss: {best_val_loss} -> {val_loss}')\n",
    "                best_val_loss = val_loss\n",
    "                save_model('./vae/vae_best.pth', vae_model)"
   ]
  },
  {
   "cell_type": "markdown",
   "id": "adb3743e",
   "metadata": {
    "id": "adb3743e"
   },
   "source": [
    "## Enjoy\n",
    "\n",
    "Tune your hyperparameters and make your conditional VAE work. Good luck!"
   ]
  },
  {
   "cell_type": "code",
   "execution_count": 34,
   "id": "d7629c75",
   "metadata": {
    "id": "d7629c75"
   },
   "outputs": [],
   "source": [
    "label_dim = 10\n",
    "img_dim = (1, 28, 28)\n",
    "latent_dim = 128\n",
    "cvae = CVAE(img_dim, 10, 128, 512)\n",
    "\n",
    "train_loader = DataLoader(train_set, batch_size=256, pin_memory=True,\n",
    "                          drop_last=False, shuffle=True, num_workers=8, persistent_workers=True)\n",
    "val_loader = DataLoader(val_set, batch_size=512, pin_memory=True,\n",
    "                        drop_last=True, shuffle=True, num_workers=8, persistent_workers=True)\n",
    "optimizer = torch.optim.Adam(cvae.parameters(), lr=2e-4, weight_decay=1e-5)"
   ]
  },
  {
   "cell_type": "markdown",
   "id": "30af6dca",
   "metadata": {},
   "source": [
    "Let's start training! Please keep in mind that this cell may **NOT** be run when we evaluate your assignment!"
   ]
  },
  {
   "cell_type": "code",
   "execution_count": 35,
   "id": "39c8d308",
   "metadata": {},
   "outputs": [
    {
     "data": {
      "application/vnd.jupyter.widget-view+json": {
       "model_id": "b31af56be3c249129ff1596d2ad0ee5f",
       "version_major": 2,
       "version_minor": 0
      },
      "text/plain": [
       "  0%|          | 0/60000 [00:00<?, ?it/s]"
      ]
     },
     "metadata": {},
     "output_type": "display_data"
    },
    {
     "data": {
      "application/vnd.jupyter.widget-view+json": {
       "model_id": "b295e375b93840d297640459dc4aa773",
       "version_major": 2,
       "version_minor": 0
      },
      "text/plain": [
       "  0%|          | 0/60000 [00:00<?, ?it/s]"
      ]
     },
     "metadata": {},
     "output_type": "display_data"
    },
    {
     "data": {
      "application/vnd.jupyter.widget-view+json": {
       "model_id": "f96adc7e823747c29d870103ebffc3c8",
       "version_major": 2,
       "version_minor": 0
      },
      "text/plain": [
       "  0%|          | 0/60000 [00:00<?, ?it/s]"
      ]
     },
     "metadata": {},
     "output_type": "display_data"
    },
    {
     "data": {
      "application/vnd.jupyter.widget-view+json": {
       "model_id": "2e5a1478fa7845ffb21857dc2bc4ff91",
       "version_major": 2,
       "version_minor": 0
      },
      "text/plain": [
       "  0%|          | 0/60000 [00:00<?, ?it/s]"
      ]
     },
     "metadata": {},
     "output_type": "display_data"
    },
    {
     "data": {
      "application/vnd.jupyter.widget-view+json": {
       "model_id": "e0620209028f4e36a3de15ebb72ea8b0",
       "version_major": 2,
       "version_minor": 0
      },
      "text/plain": [
       "  0%|          | 0/60000 [00:00<?, ?it/s]"
      ]
     },
     "metadata": {},
     "output_type": "display_data"
    },
    {
     "data": {
      "application/vnd.jupyter.widget-view+json": {
       "model_id": "609d45f93998495dbe0a6f36e0bd098e",
       "version_major": 2,
       "version_minor": 0
      },
      "text/plain": [
       "  0%|          | 0/60000 [00:00<?, ?it/s]"
      ]
     },
     "metadata": {},
     "output_type": "display_data"
    },
    {
     "data": {
      "application/vnd.jupyter.widget-view+json": {
       "model_id": "27c303e9b0124b79b7b154c625ecad3f",
       "version_major": 2,
       "version_minor": 0
      },
      "text/plain": [
       "  0%|          | 0/60000 [00:00<?, ?it/s]"
      ]
     },
     "metadata": {},
     "output_type": "display_data"
    },
    {
     "data": {
      "application/vnd.jupyter.widget-view+json": {
       "model_id": "e804d161081b41f9a1324f6c13e8601d",
       "version_major": 2,
       "version_minor": 0
      },
      "text/plain": [
       "  0%|          | 0/60000 [00:00<?, ?it/s]"
      ]
     },
     "metadata": {},
     "output_type": "display_data"
    },
    {
     "data": {
      "application/vnd.jupyter.widget-view+json": {
       "model_id": "6f3d5a68369e44538345c61bd0ad74dc",
       "version_major": 2,
       "version_minor": 0
      },
      "text/plain": [
       "  0%|          | 0/60000 [00:00<?, ?it/s]"
      ]
     },
     "metadata": {},
     "output_type": "display_data"
    },
    {
     "data": {
      "application/vnd.jupyter.widget-view+json": {
       "model_id": "48db5a883a2f44dab4d3951bf11f90d7",
       "version_major": 2,
       "version_minor": 0
      },
      "text/plain": [
       "  0%|          | 0/60000 [00:00<?, ?it/s]"
      ]
     },
     "metadata": {},
     "output_type": "display_data"
    },
    {
     "data": {
      "application/vnd.jupyter.widget-view+json": {
       "model_id": "87089a036c58498098fa6d18a9009eab",
       "version_major": 2,
       "version_minor": 0
      },
      "text/plain": [
       "  0%|          | 0/10000 [00:00<?, ?it/s]"
      ]
     },
     "metadata": {},
     "output_type": "display_data"
    },
    {
     "name": "stdout",
     "output_type": "stream",
     "text": [
      "Current validation loss: inf -> 140.50402510793586\n"
     ]
    },
    {
     "data": {
      "application/vnd.jupyter.widget-view+json": {
       "model_id": "82111f13bc964b3e94b7c59d1f2ec9f8",
       "version_major": 2,
       "version_minor": 0
      },
      "text/plain": [
       "  0%|          | 0/60000 [00:00<?, ?it/s]"
      ]
     },
     "metadata": {},
     "output_type": "display_data"
    },
    {
     "data": {
      "application/vnd.jupyter.widget-view+json": {
       "model_id": "96f85016babd4c5cbbd41860efda4a53",
       "version_major": 2,
       "version_minor": 0
      },
      "text/plain": [
       "  0%|          | 0/60000 [00:00<?, ?it/s]"
      ]
     },
     "metadata": {},
     "output_type": "display_data"
    },
    {
     "data": {
      "application/vnd.jupyter.widget-view+json": {
       "model_id": "67f6496e209649d7afbd982a369be3e8",
       "version_major": 2,
       "version_minor": 0
      },
      "text/plain": [
       "  0%|          | 0/60000 [00:00<?, ?it/s]"
      ]
     },
     "metadata": {},
     "output_type": "display_data"
    },
    {
     "data": {
      "application/vnd.jupyter.widget-view+json": {
       "model_id": "8e6723392095494093fe5be160e768cf",
       "version_major": 2,
       "version_minor": 0
      },
      "text/plain": [
       "  0%|          | 0/60000 [00:00<?, ?it/s]"
      ]
     },
     "metadata": {},
     "output_type": "display_data"
    },
    {
     "data": {
      "application/vnd.jupyter.widget-view+json": {
       "model_id": "b8d0b4edafd94c24a21c26a365079174",
       "version_major": 2,
       "version_minor": 0
      },
      "text/plain": [
       "  0%|          | 0/60000 [00:00<?, ?it/s]"
      ]
     },
     "metadata": {},
     "output_type": "display_data"
    },
    {
     "data": {
      "application/vnd.jupyter.widget-view+json": {
       "model_id": "423cd06d23c64ccca2cd649d3384f781",
       "version_major": 2,
       "version_minor": 0
      },
      "text/plain": [
       "  0%|          | 0/60000 [00:00<?, ?it/s]"
      ]
     },
     "metadata": {},
     "output_type": "display_data"
    },
    {
     "data": {
      "application/vnd.jupyter.widget-view+json": {
       "model_id": "f63ccd082fc14746841e0ee8ee141b17",
       "version_major": 2,
       "version_minor": 0
      },
      "text/plain": [
       "  0%|          | 0/60000 [00:00<?, ?it/s]"
      ]
     },
     "metadata": {},
     "output_type": "display_data"
    },
    {
     "data": {
      "application/vnd.jupyter.widget-view+json": {
       "model_id": "799ad6604dd847eba71a3473d34944ed",
       "version_major": 2,
       "version_minor": 0
      },
      "text/plain": [
       "  0%|          | 0/60000 [00:00<?, ?it/s]"
      ]
     },
     "metadata": {},
     "output_type": "display_data"
    },
    {
     "data": {
      "application/vnd.jupyter.widget-view+json": {
       "model_id": "5a688088a9924939bc803d461f0d6786",
       "version_major": 2,
       "version_minor": 0
      },
      "text/plain": [
       "  0%|          | 0/60000 [00:00<?, ?it/s]"
      ]
     },
     "metadata": {},
     "output_type": "display_data"
    },
    {
     "data": {
      "application/vnd.jupyter.widget-view+json": {
       "model_id": "7be55b7fe1c44df4bf1361731cd61c80",
       "version_major": 2,
       "version_minor": 0
      },
      "text/plain": [
       "  0%|          | 0/60000 [00:00<?, ?it/s]"
      ]
     },
     "metadata": {},
     "output_type": "display_data"
    },
    {
     "data": {
      "application/vnd.jupyter.widget-view+json": {
       "model_id": "7e27daf2b39a4ab981bab13d03cae4a9",
       "version_major": 2,
       "version_minor": 0
      },
      "text/plain": [
       "  0%|          | 0/10000 [00:00<?, ?it/s]"
      ]
     },
     "metadata": {},
     "output_type": "display_data"
    },
    {
     "name": "stdout",
     "output_type": "stream",
     "text": [
      "Current validation loss: 140.50402510793586 -> 137.90046852513365\n"
     ]
    },
    {
     "data": {
      "application/vnd.jupyter.widget-view+json": {
       "model_id": "7e36fd367f3143c28d64933723dbba8b",
       "version_major": 2,
       "version_minor": 0
      },
      "text/plain": [
       "  0%|          | 0/60000 [00:00<?, ?it/s]"
      ]
     },
     "metadata": {},
     "output_type": "display_data"
    },
    {
     "data": {
      "application/vnd.jupyter.widget-view+json": {
       "model_id": "6d0e02a8ac07431eb975c519df7b4810",
       "version_major": 2,
       "version_minor": 0
      },
      "text/plain": [
       "  0%|          | 0/60000 [00:00<?, ?it/s]"
      ]
     },
     "metadata": {},
     "output_type": "display_data"
    },
    {
     "data": {
      "application/vnd.jupyter.widget-view+json": {
       "model_id": "49c85c1d6c4b4e6193e51d438b906e2e",
       "version_major": 2,
       "version_minor": 0
      },
      "text/plain": [
       "  0%|          | 0/60000 [00:00<?, ?it/s]"
      ]
     },
     "metadata": {},
     "output_type": "display_data"
    },
    {
     "data": {
      "application/vnd.jupyter.widget-view+json": {
       "model_id": "ea5d71efc9e04c7d923d5cdecc0f2895",
       "version_major": 2,
       "version_minor": 0
      },
      "text/plain": [
       "  0%|          | 0/60000 [00:00<?, ?it/s]"
      ]
     },
     "metadata": {},
     "output_type": "display_data"
    },
    {
     "data": {
      "application/vnd.jupyter.widget-view+json": {
       "model_id": "59bda54481ca4b68970fd3de41555df0",
       "version_major": 2,
       "version_minor": 0
      },
      "text/plain": [
       "  0%|          | 0/60000 [00:00<?, ?it/s]"
      ]
     },
     "metadata": {},
     "output_type": "display_data"
    },
    {
     "data": {
      "application/vnd.jupyter.widget-view+json": {
       "model_id": "efd9aae3ff2b45998da57a2f241785fa",
       "version_major": 2,
       "version_minor": 0
      },
      "text/plain": [
       "  0%|          | 0/60000 [00:00<?, ?it/s]"
      ]
     },
     "metadata": {},
     "output_type": "display_data"
    },
    {
     "data": {
      "application/vnd.jupyter.widget-view+json": {
       "model_id": "a001b6c616da4573867f496179929144",
       "version_major": 2,
       "version_minor": 0
      },
      "text/plain": [
       "  0%|          | 0/60000 [00:00<?, ?it/s]"
      ]
     },
     "metadata": {},
     "output_type": "display_data"
    },
    {
     "data": {
      "application/vnd.jupyter.widget-view+json": {
       "model_id": "7588dc6d47be4b79873a7df859bd8bf2",
       "version_major": 2,
       "version_minor": 0
      },
      "text/plain": [
       "  0%|          | 0/60000 [00:00<?, ?it/s]"
      ]
     },
     "metadata": {},
     "output_type": "display_data"
    },
    {
     "data": {
      "application/vnd.jupyter.widget-view+json": {
       "model_id": "0e7eb47f8c1647e3ae231edfdca7bb53",
       "version_major": 2,
       "version_minor": 0
      },
      "text/plain": [
       "  0%|          | 0/60000 [00:00<?, ?it/s]"
      ]
     },
     "metadata": {},
     "output_type": "display_data"
    },
    {
     "data": {
      "application/vnd.jupyter.widget-view+json": {
       "model_id": "275ec631ba9f4d54b163e3d7cd64f730",
       "version_major": 2,
       "version_minor": 0
      },
      "text/plain": [
       "  0%|          | 0/60000 [00:00<?, ?it/s]"
      ]
     },
     "metadata": {},
     "output_type": "display_data"
    },
    {
     "data": {
      "application/vnd.jupyter.widget-view+json": {
       "model_id": "77fb4bad63714c5bbac384560b49ccd4",
       "version_major": 2,
       "version_minor": 0
      },
      "text/plain": [
       "  0%|          | 0/10000 [00:00<?, ?it/s]"
      ]
     },
     "metadata": {},
     "output_type": "display_data"
    },
    {
     "name": "stdout",
     "output_type": "stream",
     "text": [
      "Current validation loss: 137.90046852513365 -> 137.5363600881476\n"
     ]
    },
    {
     "data": {
      "application/vnd.jupyter.widget-view+json": {
       "model_id": "438149b72a7d467b984c68491bf018c1",
       "version_major": 2,
       "version_minor": 0
      },
      "text/plain": [
       "  0%|          | 0/60000 [00:00<?, ?it/s]"
      ]
     },
     "metadata": {},
     "output_type": "display_data"
    },
    {
     "data": {
      "application/vnd.jupyter.widget-view+json": {
       "model_id": "f75a5ccb8ff34d5d9a0dc429dbd863a5",
       "version_major": 2,
       "version_minor": 0
      },
      "text/plain": [
       "  0%|          | 0/60000 [00:00<?, ?it/s]"
      ]
     },
     "metadata": {},
     "output_type": "display_data"
    },
    {
     "data": {
      "application/vnd.jupyter.widget-view+json": {
       "model_id": "a3ec50ac42c04902af8bc8dba64865f6",
       "version_major": 2,
       "version_minor": 0
      },
      "text/plain": [
       "  0%|          | 0/60000 [00:00<?, ?it/s]"
      ]
     },
     "metadata": {},
     "output_type": "display_data"
    },
    {
     "data": {
      "application/vnd.jupyter.widget-view+json": {
       "model_id": "748e012fc0e34213982413b4df27d890",
       "version_major": 2,
       "version_minor": 0
      },
      "text/plain": [
       "  0%|          | 0/60000 [00:00<?, ?it/s]"
      ]
     },
     "metadata": {},
     "output_type": "display_data"
    },
    {
     "data": {
      "application/vnd.jupyter.widget-view+json": {
       "model_id": "dad548220213433683aadedb057d32ee",
       "version_major": 2,
       "version_minor": 0
      },
      "text/plain": [
       "  0%|          | 0/60000 [00:00<?, ?it/s]"
      ]
     },
     "metadata": {},
     "output_type": "display_data"
    },
    {
     "data": {
      "application/vnd.jupyter.widget-view+json": {
       "model_id": "b9cf47d0a3ed4846974eed7a85c3cae2",
       "version_major": 2,
       "version_minor": 0
      },
      "text/plain": [
       "  0%|          | 0/60000 [00:00<?, ?it/s]"
      ]
     },
     "metadata": {},
     "output_type": "display_data"
    },
    {
     "data": {
      "application/vnd.jupyter.widget-view+json": {
       "model_id": "d4932c92096e459eaf3adc4e10293f30",
       "version_major": 2,
       "version_minor": 0
      },
      "text/plain": [
       "  0%|          | 0/60000 [00:00<?, ?it/s]"
      ]
     },
     "metadata": {},
     "output_type": "display_data"
    },
    {
     "data": {
      "application/vnd.jupyter.widget-view+json": {
       "model_id": "02be8fcf0233429998a2911942c6dd54",
       "version_major": 2,
       "version_minor": 0
      },
      "text/plain": [
       "  0%|          | 0/60000 [00:00<?, ?it/s]"
      ]
     },
     "metadata": {},
     "output_type": "display_data"
    },
    {
     "data": {
      "application/vnd.jupyter.widget-view+json": {
       "model_id": "8c374e20ca244d3aaa72fc8c94c9171e",
       "version_major": 2,
       "version_minor": 0
      },
      "text/plain": [
       "  0%|          | 0/60000 [00:00<?, ?it/s]"
      ]
     },
     "metadata": {},
     "output_type": "display_data"
    },
    {
     "data": {
      "application/vnd.jupyter.widget-view+json": {
       "model_id": "254491b94a1c4618b2cc92f3816eb0b8",
       "version_major": 2,
       "version_minor": 0
      },
      "text/plain": [
       "  0%|          | 0/60000 [00:00<?, ?it/s]"
      ]
     },
     "metadata": {},
     "output_type": "display_data"
    },
    {
     "data": {
      "application/vnd.jupyter.widget-view+json": {
       "model_id": "6bfcad2650d040f3aeaebd56f2d34290",
       "version_major": 2,
       "version_minor": 0
      },
      "text/plain": [
       "  0%|          | 0/10000 [00:00<?, ?it/s]"
      ]
     },
     "metadata": {},
     "output_type": "display_data"
    },
    {
     "name": "stdout",
     "output_type": "stream",
     "text": [
      "Current validation loss: 137.5363600881476 -> 129.7450240285773\n"
     ]
    },
    {
     "data": {
      "application/vnd.jupyter.widget-view+json": {
       "model_id": "f67643272dbf4c18ab3ac1929a2392b8",
       "version_major": 2,
       "version_minor": 0
      },
      "text/plain": [
       "  0%|          | 0/60000 [00:00<?, ?it/s]"
      ]
     },
     "metadata": {},
     "output_type": "display_data"
    },
    {
     "data": {
      "application/vnd.jupyter.widget-view+json": {
       "model_id": "f99353a79e724aa8af5efdb41ed5243f",
       "version_major": 2,
       "version_minor": 0
      },
      "text/plain": [
       "  0%|          | 0/60000 [00:00<?, ?it/s]"
      ]
     },
     "metadata": {},
     "output_type": "display_data"
    },
    {
     "data": {
      "application/vnd.jupyter.widget-view+json": {
       "model_id": "fa2d5284c6b943b3a56f1333e5787f6d",
       "version_major": 2,
       "version_minor": 0
      },
      "text/plain": [
       "  0%|          | 0/60000 [00:00<?, ?it/s]"
      ]
     },
     "metadata": {},
     "output_type": "display_data"
    },
    {
     "data": {
      "application/vnd.jupyter.widget-view+json": {
       "model_id": "5bf237aba1034115991aa17c44db1668",
       "version_major": 2,
       "version_minor": 0
      },
      "text/plain": [
       "  0%|          | 0/60000 [00:00<?, ?it/s]"
      ]
     },
     "metadata": {},
     "output_type": "display_data"
    },
    {
     "data": {
      "application/vnd.jupyter.widget-view+json": {
       "model_id": "b46f2fbc244345e18918f6d1120cabe3",
       "version_major": 2,
       "version_minor": 0
      },
      "text/plain": [
       "  0%|          | 0/60000 [00:00<?, ?it/s]"
      ]
     },
     "metadata": {},
     "output_type": "display_data"
    },
    {
     "data": {
      "application/vnd.jupyter.widget-view+json": {
       "model_id": "272a482c2d6e4a62bc692c754709af12",
       "version_major": 2,
       "version_minor": 0
      },
      "text/plain": [
       "  0%|          | 0/60000 [00:00<?, ?it/s]"
      ]
     },
     "metadata": {},
     "output_type": "display_data"
    },
    {
     "data": {
      "application/vnd.jupyter.widget-view+json": {
       "model_id": "309d55e878ef472cb1dc811d29e57d50",
       "version_major": 2,
       "version_minor": 0
      },
      "text/plain": [
       "  0%|          | 0/60000 [00:00<?, ?it/s]"
      ]
     },
     "metadata": {},
     "output_type": "display_data"
    },
    {
     "data": {
      "application/vnd.jupyter.widget-view+json": {
       "model_id": "c6b7aecd45974c2298d39f79d90cac74",
       "version_major": 2,
       "version_minor": 0
      },
      "text/plain": [
       "  0%|          | 0/60000 [00:00<?, ?it/s]"
      ]
     },
     "metadata": {},
     "output_type": "display_data"
    },
    {
     "data": {
      "application/vnd.jupyter.widget-view+json": {
       "model_id": "e9b40243ca164e079301944f51e6bf5f",
       "version_major": 2,
       "version_minor": 0
      },
      "text/plain": [
       "  0%|          | 0/60000 [00:00<?, ?it/s]"
      ]
     },
     "metadata": {},
     "output_type": "display_data"
    },
    {
     "data": {
      "application/vnd.jupyter.widget-view+json": {
       "model_id": "a45154b970364af79f9b0c524d1f29f9",
       "version_major": 2,
       "version_minor": 0
      },
      "text/plain": [
       "  0%|          | 0/60000 [00:00<?, ?it/s]"
      ]
     },
     "metadata": {},
     "output_type": "display_data"
    },
    {
     "data": {
      "application/vnd.jupyter.widget-view+json": {
       "model_id": "2de8f8d5923f4b1a957ae7b18023dc05",
       "version_major": 2,
       "version_minor": 0
      },
      "text/plain": [
       "  0%|          | 0/10000 [00:00<?, ?it/s]"
      ]
     },
     "metadata": {},
     "output_type": "display_data"
    },
    {
     "name": "stdout",
     "output_type": "stream",
     "text": [
      "Current validation loss: 129.7450240285773 -> 126.56781688489411\n"
     ]
    },
    {
     "data": {
      "application/vnd.jupyter.widget-view+json": {
       "model_id": "68e7984e8ade40b08a76c70d3d52745a",
       "version_major": 2,
       "version_minor": 0
      },
      "text/plain": [
       "  0%|          | 0/60000 [00:00<?, ?it/s]"
      ]
     },
     "metadata": {},
     "output_type": "display_data"
    },
    {
     "data": {
      "application/vnd.jupyter.widget-view+json": {
       "model_id": "91ecdb492dfd47cb95732253a106e321",
       "version_major": 2,
       "version_minor": 0
      },
      "text/plain": [
       "  0%|          | 0/60000 [00:00<?, ?it/s]"
      ]
     },
     "metadata": {},
     "output_type": "display_data"
    },
    {
     "data": {
      "application/vnd.jupyter.widget-view+json": {
       "model_id": "e3746ffea5c641749f8218ddcd7c7c18",
       "version_major": 2,
       "version_minor": 0
      },
      "text/plain": [
       "  0%|          | 0/60000 [00:00<?, ?it/s]"
      ]
     },
     "metadata": {},
     "output_type": "display_data"
    },
    {
     "data": {
      "application/vnd.jupyter.widget-view+json": {
       "model_id": "1b34744957b84b39b54220e93759a51c",
       "version_major": 2,
       "version_minor": 0
      },
      "text/plain": [
       "  0%|          | 0/60000 [00:00<?, ?it/s]"
      ]
     },
     "metadata": {},
     "output_type": "display_data"
    },
    {
     "data": {
      "application/vnd.jupyter.widget-view+json": {
       "model_id": "23869d12ea03496289f62b2ba1a47bb4",
       "version_major": 2,
       "version_minor": 0
      },
      "text/plain": [
       "  0%|          | 0/60000 [00:00<?, ?it/s]"
      ]
     },
     "metadata": {},
     "output_type": "display_data"
    },
    {
     "data": {
      "application/vnd.jupyter.widget-view+json": {
       "model_id": "d15162a3b2f34d9eb7d3a3ce35a3250a",
       "version_major": 2,
       "version_minor": 0
      },
      "text/plain": [
       "  0%|          | 0/60000 [00:00<?, ?it/s]"
      ]
     },
     "metadata": {},
     "output_type": "display_data"
    },
    {
     "data": {
      "application/vnd.jupyter.widget-view+json": {
       "model_id": "c833a09273b44e96a88601461b4e54d3",
       "version_major": 2,
       "version_minor": 0
      },
      "text/plain": [
       "  0%|          | 0/60000 [00:00<?, ?it/s]"
      ]
     },
     "metadata": {},
     "output_type": "display_data"
    },
    {
     "data": {
      "application/vnd.jupyter.widget-view+json": {
       "model_id": "955087bd33a64c38ad83aed46b33240d",
       "version_major": 2,
       "version_minor": 0
      },
      "text/plain": [
       "  0%|          | 0/60000 [00:00<?, ?it/s]"
      ]
     },
     "metadata": {},
     "output_type": "display_data"
    },
    {
     "data": {
      "application/vnd.jupyter.widget-view+json": {
       "model_id": "649de5ccb19e4ed6b213327562d05f74",
       "version_major": 2,
       "version_minor": 0
      },
      "text/plain": [
       "  0%|          | 0/60000 [00:00<?, ?it/s]"
      ]
     },
     "metadata": {},
     "output_type": "display_data"
    },
    {
     "data": {
      "application/vnd.jupyter.widget-view+json": {
       "model_id": "cf229ce1f7324726b39b0336dcd909e5",
       "version_major": 2,
       "version_minor": 0
      },
      "text/plain": [
       "  0%|          | 0/60000 [00:00<?, ?it/s]"
      ]
     },
     "metadata": {},
     "output_type": "display_data"
    },
    {
     "data": {
      "application/vnd.jupyter.widget-view+json": {
       "model_id": "20d6a2d48b5e4c61927e42056964a811",
       "version_major": 2,
       "version_minor": 0
      },
      "text/plain": [
       "  0%|          | 0/10000 [00:00<?, ?it/s]"
      ]
     },
     "metadata": {},
     "output_type": "display_data"
    },
    {
     "name": "stdout",
     "output_type": "stream",
     "text": [
      "Current validation loss: 126.56781688489411 -> 124.74285808362458\n"
     ]
    },
    {
     "data": {
      "application/vnd.jupyter.widget-view+json": {
       "model_id": "65c1876cf00b47448445e29921e5b7e5",
       "version_major": 2,
       "version_minor": 0
      },
      "text/plain": [
       "  0%|          | 0/60000 [00:00<?, ?it/s]"
      ]
     },
     "metadata": {},
     "output_type": "display_data"
    },
    {
     "data": {
      "application/vnd.jupyter.widget-view+json": {
       "model_id": "b2c7fe67a60e4ba5a3f19e2714ffea77",
       "version_major": 2,
       "version_minor": 0
      },
      "text/plain": [
       "  0%|          | 0/60000 [00:00<?, ?it/s]"
      ]
     },
     "metadata": {},
     "output_type": "display_data"
    },
    {
     "data": {
      "application/vnd.jupyter.widget-view+json": {
       "model_id": "3b4bdb8099b24619a1d4784ca1eb1b4e",
       "version_major": 2,
       "version_minor": 0
      },
      "text/plain": [
       "  0%|          | 0/60000 [00:00<?, ?it/s]"
      ]
     },
     "metadata": {},
     "output_type": "display_data"
    },
    {
     "data": {
      "application/vnd.jupyter.widget-view+json": {
       "model_id": "b96344e0bb3c483aa9328065d40e4902",
       "version_major": 2,
       "version_minor": 0
      },
      "text/plain": [
       "  0%|          | 0/60000 [00:00<?, ?it/s]"
      ]
     },
     "metadata": {},
     "output_type": "display_data"
    },
    {
     "data": {
      "application/vnd.jupyter.widget-view+json": {
       "model_id": "004af4e24696467895a5cb4ee8e313d0",
       "version_major": 2,
       "version_minor": 0
      },
      "text/plain": [
       "  0%|          | 0/60000 [00:00<?, ?it/s]"
      ]
     },
     "metadata": {},
     "output_type": "display_data"
    },
    {
     "data": {
      "application/vnd.jupyter.widget-view+json": {
       "model_id": "f54f307bf368444ba874cd4c8645d306",
       "version_major": 2,
       "version_minor": 0
      },
      "text/plain": [
       "  0%|          | 0/60000 [00:00<?, ?it/s]"
      ]
     },
     "metadata": {},
     "output_type": "display_data"
    },
    {
     "data": {
      "application/vnd.jupyter.widget-view+json": {
       "model_id": "5d33b5bca71c41a99aecdda336f78aeb",
       "version_major": 2,
       "version_minor": 0
      },
      "text/plain": [
       "  0%|          | 0/60000 [00:00<?, ?it/s]"
      ]
     },
     "metadata": {},
     "output_type": "display_data"
    },
    {
     "data": {
      "application/vnd.jupyter.widget-view+json": {
       "model_id": "8f150fcfc1e74e96b0e7944525ee36ea",
       "version_major": 2,
       "version_minor": 0
      },
      "text/plain": [
       "  0%|          | 0/60000 [00:00<?, ?it/s]"
      ]
     },
     "metadata": {},
     "output_type": "display_data"
    },
    {
     "data": {
      "application/vnd.jupyter.widget-view+json": {
       "model_id": "e83c4b967b4244f095ce1ac09f9fdefd",
       "version_major": 2,
       "version_minor": 0
      },
      "text/plain": [
       "  0%|          | 0/60000 [00:00<?, ?it/s]"
      ]
     },
     "metadata": {},
     "output_type": "display_data"
    },
    {
     "data": {
      "application/vnd.jupyter.widget-view+json": {
       "model_id": "71e1313583a9447682c26448fe9d3b59",
       "version_major": 2,
       "version_minor": 0
      },
      "text/plain": [
       "  0%|          | 0/60000 [00:00<?, ?it/s]"
      ]
     },
     "metadata": {},
     "output_type": "display_data"
    },
    {
     "data": {
      "application/vnd.jupyter.widget-view+json": {
       "model_id": "eb177d153c1c4363aacbe4dd87f3572a",
       "version_major": 2,
       "version_minor": 0
      },
      "text/plain": [
       "  0%|          | 0/10000 [00:00<?, ?it/s]"
      ]
     },
     "metadata": {},
     "output_type": "display_data"
    },
    {
     "name": "stdout",
     "output_type": "stream",
     "text": [
      "Current validation loss: 124.74285808362458 -> 121.9078553852282\n"
     ]
    },
    {
     "data": {
      "application/vnd.jupyter.widget-view+json": {
       "model_id": "88db06e4de3547e3a300c704370f8736",
       "version_major": 2,
       "version_minor": 0
      },
      "text/plain": [
       "  0%|          | 0/60000 [00:00<?, ?it/s]"
      ]
     },
     "metadata": {},
     "output_type": "display_data"
    },
    {
     "data": {
      "application/vnd.jupyter.widget-view+json": {
       "model_id": "28913725124b46d192e10c330ca9a552",
       "version_major": 2,
       "version_minor": 0
      },
      "text/plain": [
       "  0%|          | 0/60000 [00:00<?, ?it/s]"
      ]
     },
     "metadata": {},
     "output_type": "display_data"
    },
    {
     "data": {
      "application/vnd.jupyter.widget-view+json": {
       "model_id": "7089513d634e42158f6ae1a64825647b",
       "version_major": 2,
       "version_minor": 0
      },
      "text/plain": [
       "  0%|          | 0/60000 [00:00<?, ?it/s]"
      ]
     },
     "metadata": {},
     "output_type": "display_data"
    },
    {
     "data": {
      "application/vnd.jupyter.widget-view+json": {
       "model_id": "12664df43cb94342bf54796947243575",
       "version_major": 2,
       "version_minor": 0
      },
      "text/plain": [
       "  0%|          | 0/60000 [00:00<?, ?it/s]"
      ]
     },
     "metadata": {},
     "output_type": "display_data"
    },
    {
     "data": {
      "application/vnd.jupyter.widget-view+json": {
       "model_id": "83a59d53dcac49bcba43e8ad494a6349",
       "version_major": 2,
       "version_minor": 0
      },
      "text/plain": [
       "  0%|          | 0/60000 [00:00<?, ?it/s]"
      ]
     },
     "metadata": {},
     "output_type": "display_data"
    },
    {
     "data": {
      "application/vnd.jupyter.widget-view+json": {
       "model_id": "b9919e9f037d4d83bcc1ccea2a74f587",
       "version_major": 2,
       "version_minor": 0
      },
      "text/plain": [
       "  0%|          | 0/60000 [00:00<?, ?it/s]"
      ]
     },
     "metadata": {},
     "output_type": "display_data"
    },
    {
     "data": {
      "application/vnd.jupyter.widget-view+json": {
       "model_id": "39a94735a170476a872bfaaad0abaf78",
       "version_major": 2,
       "version_minor": 0
      },
      "text/plain": [
       "  0%|          | 0/60000 [00:00<?, ?it/s]"
      ]
     },
     "metadata": {},
     "output_type": "display_data"
    },
    {
     "data": {
      "application/vnd.jupyter.widget-view+json": {
       "model_id": "17ffb9165133415aa259c6b5f8177443",
       "version_major": 2,
       "version_minor": 0
      },
      "text/plain": [
       "  0%|          | 0/60000 [00:00<?, ?it/s]"
      ]
     },
     "metadata": {},
     "output_type": "display_data"
    },
    {
     "data": {
      "application/vnd.jupyter.widget-view+json": {
       "model_id": "5c781bc424604410ac5796b867d4829f",
       "version_major": 2,
       "version_minor": 0
      },
      "text/plain": [
       "  0%|          | 0/60000 [00:00<?, ?it/s]"
      ]
     },
     "metadata": {},
     "output_type": "display_data"
    },
    {
     "data": {
      "application/vnd.jupyter.widget-view+json": {
       "model_id": "74c8ec02712c41458d7ed91eb9f43fb6",
       "version_major": 2,
       "version_minor": 0
      },
      "text/plain": [
       "  0%|          | 0/60000 [00:00<?, ?it/s]"
      ]
     },
     "metadata": {},
     "output_type": "display_data"
    },
    {
     "data": {
      "application/vnd.jupyter.widget-view+json": {
       "model_id": "9b233f01221b49048f9eaeff8e46166b",
       "version_major": 2,
       "version_minor": 0
      },
      "text/plain": [
       "  0%|          | 0/10000 [00:00<?, ?it/s]"
      ]
     },
     "metadata": {},
     "output_type": "display_data"
    },
    {
     "name": "stdout",
     "output_type": "stream",
     "text": [
      "Current validation loss: 121.9078553852282 -> 120.19936330694901\n"
     ]
    },
    {
     "data": {
      "application/vnd.jupyter.widget-view+json": {
       "model_id": "746b02f6f40645b1bb33b16951cb4417",
       "version_major": 2,
       "version_minor": 0
      },
      "text/plain": [
       "  0%|          | 0/60000 [00:00<?, ?it/s]"
      ]
     },
     "metadata": {},
     "output_type": "display_data"
    },
    {
     "data": {
      "application/vnd.jupyter.widget-view+json": {
       "model_id": "6ea6c3628e6b4caea1cf7249d35ae9a9",
       "version_major": 2,
       "version_minor": 0
      },
      "text/plain": [
       "  0%|          | 0/60000 [00:00<?, ?it/s]"
      ]
     },
     "metadata": {},
     "output_type": "display_data"
    },
    {
     "data": {
      "application/vnd.jupyter.widget-view+json": {
       "model_id": "26249621aa1e4a31af9f1409d7d78903",
       "version_major": 2,
       "version_minor": 0
      },
      "text/plain": [
       "  0%|          | 0/60000 [00:00<?, ?it/s]"
      ]
     },
     "metadata": {},
     "output_type": "display_data"
    },
    {
     "data": {
      "application/vnd.jupyter.widget-view+json": {
       "model_id": "b9fb7193d3db43b297c70664cd34f143",
       "version_major": 2,
       "version_minor": 0
      },
      "text/plain": [
       "  0%|          | 0/60000 [00:00<?, ?it/s]"
      ]
     },
     "metadata": {},
     "output_type": "display_data"
    },
    {
     "data": {
      "application/vnd.jupyter.widget-view+json": {
       "model_id": "81bdf89b4f764335ad6a79319aef8073",
       "version_major": 2,
       "version_minor": 0
      },
      "text/plain": [
       "  0%|          | 0/60000 [00:00<?, ?it/s]"
      ]
     },
     "metadata": {},
     "output_type": "display_data"
    },
    {
     "data": {
      "application/vnd.jupyter.widget-view+json": {
       "model_id": "afeda7dac43c415e9e36a54bddb63a1b",
       "version_major": 2,
       "version_minor": 0
      },
      "text/plain": [
       "  0%|          | 0/60000 [00:00<?, ?it/s]"
      ]
     },
     "metadata": {},
     "output_type": "display_data"
    },
    {
     "data": {
      "application/vnd.jupyter.widget-view+json": {
       "model_id": "6f094c052c344031950333706871c71f",
       "version_major": 2,
       "version_minor": 0
      },
      "text/plain": [
       "  0%|          | 0/60000 [00:00<?, ?it/s]"
      ]
     },
     "metadata": {},
     "output_type": "display_data"
    },
    {
     "data": {
      "application/vnd.jupyter.widget-view+json": {
       "model_id": "40a3a58afcc34287917748e765ff7109",
       "version_major": 2,
       "version_minor": 0
      },
      "text/plain": [
       "  0%|          | 0/60000 [00:00<?, ?it/s]"
      ]
     },
     "metadata": {},
     "output_type": "display_data"
    },
    {
     "data": {
      "application/vnd.jupyter.widget-view+json": {
       "model_id": "feebf260c3254a1996e3688ff25b1d1c",
       "version_major": 2,
       "version_minor": 0
      },
      "text/plain": [
       "  0%|          | 0/60000 [00:00<?, ?it/s]"
      ]
     },
     "metadata": {},
     "output_type": "display_data"
    },
    {
     "data": {
      "application/vnd.jupyter.widget-view+json": {
       "model_id": "ccce0a49c9f544718bf9b533be6cd908",
       "version_major": 2,
       "version_minor": 0
      },
      "text/plain": [
       "  0%|          | 0/60000 [00:00<?, ?it/s]"
      ]
     },
     "metadata": {},
     "output_type": "display_data"
    },
    {
     "data": {
      "application/vnd.jupyter.widget-view+json": {
       "model_id": "143dc32d1cfe4666bdc947ce34f6de8b",
       "version_major": 2,
       "version_minor": 0
      },
      "text/plain": [
       "  0%|          | 0/10000 [00:00<?, ?it/s]"
      ]
     },
     "metadata": {},
     "output_type": "display_data"
    },
    {
     "name": "stdout",
     "output_type": "stream",
     "text": [
      "Current validation loss: 120.19936330694901 -> 119.96928726999383\n"
     ]
    },
    {
     "data": {
      "application/vnd.jupyter.widget-view+json": {
       "model_id": "686d21de0f2a4da3b6364f522bf35af6",
       "version_major": 2,
       "version_minor": 0
      },
      "text/plain": [
       "  0%|          | 0/60000 [00:00<?, ?it/s]"
      ]
     },
     "metadata": {},
     "output_type": "display_data"
    },
    {
     "data": {
      "application/vnd.jupyter.widget-view+json": {
       "model_id": "54e53aae9ef847dba332b73dad4452be",
       "version_major": 2,
       "version_minor": 0
      },
      "text/plain": [
       "  0%|          | 0/60000 [00:00<?, ?it/s]"
      ]
     },
     "metadata": {},
     "output_type": "display_data"
    },
    {
     "data": {
      "application/vnd.jupyter.widget-view+json": {
       "model_id": "5cf7853b57c64e5ba8e53d36dc130077",
       "version_major": 2,
       "version_minor": 0
      },
      "text/plain": [
       "  0%|          | 0/60000 [00:00<?, ?it/s]"
      ]
     },
     "metadata": {},
     "output_type": "display_data"
    },
    {
     "data": {
      "application/vnd.jupyter.widget-view+json": {
       "model_id": "7d65751510b44e4bb59eae53ec824872",
       "version_major": 2,
       "version_minor": 0
      },
      "text/plain": [
       "  0%|          | 0/60000 [00:00<?, ?it/s]"
      ]
     },
     "metadata": {},
     "output_type": "display_data"
    },
    {
     "data": {
      "application/vnd.jupyter.widget-view+json": {
       "model_id": "bd778cce6dab472ba3d015a0aee5a8c9",
       "version_major": 2,
       "version_minor": 0
      },
      "text/plain": [
       "  0%|          | 0/60000 [00:00<?, ?it/s]"
      ]
     },
     "metadata": {},
     "output_type": "display_data"
    },
    {
     "data": {
      "application/vnd.jupyter.widget-view+json": {
       "model_id": "3855b8f9488e4992841269f8d73c2395",
       "version_major": 2,
       "version_minor": 0
      },
      "text/plain": [
       "  0%|          | 0/60000 [00:00<?, ?it/s]"
      ]
     },
     "metadata": {},
     "output_type": "display_data"
    },
    {
     "data": {
      "application/vnd.jupyter.widget-view+json": {
       "model_id": "937946935b034cd7ae6d8b50a730834e",
       "version_major": 2,
       "version_minor": 0
      },
      "text/plain": [
       "  0%|          | 0/60000 [00:00<?, ?it/s]"
      ]
     },
     "metadata": {},
     "output_type": "display_data"
    },
    {
     "data": {
      "application/vnd.jupyter.widget-view+json": {
       "model_id": "dcc4dabbf5bb4397b11d8f0b9e85a4ce",
       "version_major": 2,
       "version_minor": 0
      },
      "text/plain": [
       "  0%|          | 0/60000 [00:00<?, ?it/s]"
      ]
     },
     "metadata": {},
     "output_type": "display_data"
    },
    {
     "data": {
      "application/vnd.jupyter.widget-view+json": {
       "model_id": "f391fc1ffb7b49358cca0fffe907c1dd",
       "version_major": 2,
       "version_minor": 0
      },
      "text/plain": [
       "  0%|          | 0/60000 [00:00<?, ?it/s]"
      ]
     },
     "metadata": {},
     "output_type": "display_data"
    },
    {
     "data": {
      "application/vnd.jupyter.widget-view+json": {
       "model_id": "993cdac310f24037a6234b46dc73c87e",
       "version_major": 2,
       "version_minor": 0
      },
      "text/plain": [
       "  0%|          | 0/60000 [00:00<?, ?it/s]"
      ]
     },
     "metadata": {},
     "output_type": "display_data"
    },
    {
     "data": {
      "application/vnd.jupyter.widget-view+json": {
       "model_id": "d8a509f501de46578c580d1af366db8d",
       "version_major": 2,
       "version_minor": 0
      },
      "text/plain": [
       "  0%|          | 0/10000 [00:00<?, ?it/s]"
      ]
     },
     "metadata": {},
     "output_type": "display_data"
    },
    {
     "name": "stdout",
     "output_type": "stream",
     "text": [
      "Current validation loss: 119.96928726999383 -> 118.84398691277755\n"
     ]
    }
   ],
   "source": [
    "# feel free to change training hyper-parameters!\n",
    "train(100, cvae, train_loader, val_loader, optimizer, device=device, save_interval=10)"
   ]
  },
  {
   "cell_type": "markdown",
   "id": "0855408b",
   "metadata": {
    "deletable": false,
    "editable": false,
    "id": "0855408b",
    "nbgrader": {
     "cell_type": "markdown",
     "checksum": "14e2df23954d25097e6abd8aa949ba59",
     "grade": false,
     "grade_id": "cell-b2a25a74aeb23f85",
     "locked": true,
     "schema_version": 3,
     "solution": false,
     "task": false
    }
   },
   "source": [
    "## Evaluation\n",
    "\n",
    "Make sure your code runs fine with the following cells!"
   ]
  },
  {
   "cell_type": "code",
   "execution_count": 36,
   "id": "baf9adcd",
   "metadata": {
    "deletable": false,
    "editable": false,
    "nbgrader": {
     "cell_type": "code",
     "checksum": "fde2594d4b9784d93be6dba2a6256346",
     "grade": false,
     "grade_id": "cell-c589aa5203854893",
     "locked": true,
     "schema_version": 3,
     "solution": false,
     "task": false
    }
   },
   "outputs": [
    {
     "name": "stderr",
     "output_type": "stream",
     "text": [
      "d:\\课程\\大二下\\深度学习\\CodingProject3\\utils.py:26: FutureWarning: You are using `torch.load` with `weights_only=False` (the current default value), which uses the default pickle module implicitly. It is possible to construct malicious pickle data which will execute arbitrary code during unpickling (See https://github.com/pytorch/pytorch/blob/main/SECURITY.md#untrusted-models for more details). In a future release, the default value for `weights_only` will be flipped to `True`. This limits the functions that could be executed during unpickling. Arbitrary objects will no longer be allowed to be loaded via this mode unless they are explicitly allowlisted by the user via `torch.serialization.add_safe_globals`. We recommend you start setting `weights_only=True` for any use case where you don't have full control of the loaded file. Please open an issue on GitHub for any issues related to this experimental feature.\n",
      "  checkpoint = torch.load(load_path)\n"
     ]
    }
   ],
   "source": [
    "# collect model-generated samples\n",
    "cvae.load_state_dict(load_model('./vae/vae_best.pth')[0])\n",
    "cvae.make_dataset(n_samples_per_class=100)"
   ]
  },
  {
   "cell_type": "code",
   "execution_count": 37,
   "id": "50ab5f99",
   "metadata": {
    "deletable": false,
    "editable": false,
    "id": "50ab5f99",
    "nbgrader": {
     "cell_type": "code",
     "checksum": "203909f47398d9909818a2caf9c15dc2",
     "grade": false,
     "grade_id": "cell-2b3416223f0c4c34",
     "locked": true,
     "schema_version": 3,
     "solution": false,
     "task": false
    }
   },
   "outputs": [
    {
     "name": "stdout",
     "output_type": "stream",
     "text": [
      "FID score for 10 classes: [ 9.729778   4.3459783 19.134884  14.227808   8.395357  10.0353\n",
      "  6.454054  10.010896  17.087881   8.698973 ]\n"
     ]
    },
    {
     "name": "stderr",
     "output_type": "stream",
     "text": [
      "c:\\Users\\Tommy\\AppData\\Local\\Programs\\Python\\Python312\\Lib\\site-packages\\torchvision\\models\\_utils.py:208: UserWarning: The parameter 'pretrained' is deprecated since 0.13 and may be removed in the future, please use 'weights' instead.\n",
      "  warnings.warn(\n",
      "c:\\Users\\Tommy\\AppData\\Local\\Programs\\Python\\Python312\\Lib\\site-packages\\torchvision\\models\\_utils.py:223: UserWarning: Arguments other than a weight enum or `None` for 'weights' are deprecated since 0.13 and may be removed in the future. The current behavior is equivalent to passing `weights=Inception_V3_Weights.IMAGENET1K_V1`. You can also use `weights=Inception_V3_Weights.DEFAULT` to get the most up-to-date weights.\n",
      "  warnings.warn(msg)\n",
      "d:\\课程\\大二下\\深度学习\\CodingProject3\\evaluate_cgen.py:115: FutureWarning: You are using `torch.load` with `weights_only=False` (the current default value), which uses the default pickle module implicitly. It is possible to construct malicious pickle data which will execute arbitrary code during unpickling (See https://github.com/pytorch/pytorch/blob/main/SECURITY.md#untrusted-models for more details). In a future release, the default value for `weights_only` will be flipped to `True`. This limits the functions that could be executed during unpickling. Arbitrary objects will no longer be allowed to be loaded via this mode unless they are explicitly allowlisted by the user via `torch.serialization.add_safe_globals`. We recommend you start setting `weights_only=True` for any use case where you don't have full control of the loaded file. Please open an issue on GitHub for any issues related to this experimental feature.\n",
      "  model.load_state_dict(torch.load(\"MnistInceptionV3.pth\"))\n",
      "\n",
      "  0%|          | 0/10 [00:00<?, ?it/s]\n",
      " 10%|█         | 1/10 [00:08<01:13,  8.15s/it]\n",
      " 20%|██        | 2/10 [00:15<01:02,  7.85s/it]\n",
      " 30%|███       | 3/10 [00:23<00:55,  7.93s/it]\n",
      " 40%|████      | 4/10 [00:31<00:48,  8.01s/it]\n",
      " 50%|█████     | 5/10 [00:39<00:39,  7.86s/it]\n",
      " 60%|██████    | 6/10 [00:47<00:31,  7.82s/it]\n",
      " 70%|███████   | 7/10 [00:55<00:23,  7.83s/it]\n",
      " 80%|████████  | 8/10 [01:03<00:15,  7.84s/it]\n",
      " 90%|█████████ | 9/10 [01:10<00:07,  7.82s/it]\n",
      "100%|██████████| 10/10 [01:18<00:00,  7.88s/it]\n",
      "100%|██████████| 10/10 [01:18<00:00,  7.88s/it]\n"
     ]
    }
   ],
   "source": [
    "# run evaluation\n",
    "!python evaluate_cgen.py --vae"
   ]
  }
 ],
 "metadata": {
  "colab": {
   "provenance": []
  },
  "kernelspec": {
   "display_name": "Python 3 (ipykernel)",
   "language": "python",
   "name": "python3"
  },
  "language_info": {
   "codemirror_mode": {
    "name": "ipython",
    "version": 3
   },
   "file_extension": ".py",
   "mimetype": "text/x-python",
   "name": "python",
   "nbconvert_exporter": "python",
   "pygments_lexer": "ipython3",
   "version": "3.8.10"
  },
  "toc": {
   "base_numbering": 1,
   "nav_menu": {},
   "number_sections": false,
   "sideBar": true,
   "skip_h1_title": false,
   "title_cell": "Table of Contents",
   "title_sidebar": "Contents",
   "toc_cell": false,
   "toc_position": {},
   "toc_section_display": true,
   "toc_window_display": false
  }
 },
 "nbformat": 4,
 "nbformat_minor": 5
}
