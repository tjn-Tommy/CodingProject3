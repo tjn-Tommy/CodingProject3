{
 "cells": [
  {
   "cell_type": "markdown",
   "id": "fbef945a",
   "metadata": {},
   "source": [
    "---"
   ]
  },
  {
   "cell_type": "markdown",
   "id": "718d6fe6",
   "metadata": {
    "deletable": false,
    "editable": false,
    "id": "718d6fe6",
    "nbgrader": {
     "cell_type": "markdown",
     "checksum": "3db01def951d1f5e4aae3677ab577d9f",
     "grade": false,
     "grade_id": "cell-9c430af5d8d383e0",
     "locked": true,
     "schema_version": 3,
     "solution": false,
     "task": false
    }
   },
   "source": [
    "p## Deep Learning Coding Project 3-2: Flow-Based Model\n",
    "\n",
    "Before we start, please put your **Chinese** name and student ID in following format:\n",
    "\n",
    "Name, 0000000000 // e.g.) 小明, 2021123123"
   ]
  },
  {
   "cell_type": "markdown",
   "id": "e85b760d",
   "metadata": {
    "deletable": false,
    "id": "e85b760d",
    "nbgrader": {
     "cell_type": "markdown",
     "checksum": "e30c80977fd0505d51c0f3fff9f44141",
     "grade": true,
     "grade_id": "name-and-id",
     "locked": false,
     "points": 0,
     "schema_version": 3,
     "solution": true,
     "task": false
    }
   },
   "source": [
    "YOUR ANSWER HERE"
   ]
  },
  {
   "cell_type": "markdown",
   "id": "ef99bd7a",
   "metadata": {
    "deletable": false,
    "editable": false,
    "id": "ef99bd7a",
    "nbgrader": {
     "cell_type": "markdown",
     "checksum": "b9108ab84e4a6a2ec53c4af00369844d",
     "grade": false,
     "grade_id": "cell-140b078480df53e1",
     "locked": true,
     "schema_version": 3,
     "solution": false,
     "task": false
    }
   },
   "source": [
    "## Introduction\n",
    "\n",
    "We will use Python 3, [NumPy](https://numpy.org/), and [PyTorch](https://pytorch.org/) packages for implementation. To avoid unexpected issues with PyTorch 2.x, we recommend using PyTorch version 1.x.\n",
    "\n",
    "In this coding project, you will implement 4 generative models, i.e., energy-based model, flow-based model, variational auto-encoder, and generative adverserial network, to generate MNIST images.\n",
    "\n",
    "**We will implement a flow model, specifically a simplified [Real NVP](https://arxiv.org/abs/1605.08803), in this notebook.**"
   ]
  },
  {
   "cell_type": "markdown",
   "id": "455cd281",
   "metadata": {
    "deletable": false,
    "editable": false,
    "id": "455cd281",
    "nbgrader": {
     "cell_type": "markdown",
     "checksum": "120d6358fec9f6418d1267d01a2ae32b",
     "grade": false,
     "grade_id": "cell-ffacdab926dcdef6",
     "locked": true,
     "schema_version": 3,
     "solution": false,
     "task": false
    }
   },
   "source": [
    "In some cells and files you will see code blocks that look like this:\n",
    "\n",
    "```Python\n",
    "##############################################################################\n",
    "#                  TODO: You need to complete the code here                  #\n",
    "##############################################################################\n",
    "raise NotImplementedError()\n",
    "##############################################################################\n",
    "#                              END OF YOUR CODE                              #\n",
    "##############################################################################\n",
    "```\n",
    "\n",
    "You should replace `raise NotImplementedError()` with your own implementation based on the context, such as:\n",
    "\n",
    "```Python\n",
    "##############################################################################\n",
    "#                  TODO: You need to complete the code here                  #\n",
    "##############################################################################\n",
    "y = w * x + b\n",
    "##############################################################################\n",
    "#                              END OF YOUR CODE                              #\n",
    "##############################################################################\n",
    "\n",
    "```\n",
    "\n",
    "When completing the notebook, please adhere to the following rules:\n",
    "\n",
    "+ Unless otherwise stated, do not write or modify any code outside of code blocks\n",
    "+ Do not add or delete any cells from the notebook.\n",
    "+ Run all cells before submission. We will not re-run the entire codebook during grading.\n",
    "\n",
    "**Finally, avoid plagiarism! Any student who violates academic integrity will be seriously dealt with and receive an F for the course.**"
   ]
  },
  {
   "cell_type": "markdown",
   "id": "17c3bbf1",
   "metadata": {
    "deletable": false,
    "editable": false,
    "id": "17c3bbf1",
    "nbgrader": {
     "cell_type": "markdown",
     "checksum": "d1d64f9e4deb3b33e238857851770c83",
     "grade": false,
     "grade_id": "cell-599bd6afccb34d60",
     "locked": true,
     "schema_version": 3,
     "solution": false,
     "task": false
    }
   },
   "source": [
    "### Task\n",
    "\n",
    "In this problem, you need to train a simplified Real NVP model (without squeezing layers and multi-scale architechture) on MNIST images for\n",
    "image generation and inpainting. You should\n",
    "\n",
    "1. **Complete the missing codes in `Shuffle`, `CouplingLayer` and `FlowSequential`.**\n",
    "\n",
    "2. **Modify model structure and hyper-parameters to train a model for better inpainting.**\n",
    "\n",
    "An example of inpainting using flow model is shown below."
   ]
  },
  {
   "cell_type": "markdown",
   "id": "Lsx7lv2DAdXt",
   "metadata": {
    "id": "Lsx7lv2DAdXt"
   },
   "source": [
    "If you use Colab in this coding project, please uncomment the cell below, change the `GOOGLE_DRIVE_PATH` to your project folder and run the following cell to mount your Google drive. Then, the notebook can find the required files (i.e., utils.py). If you run the notebook locally, you can skip this cell."
   ]
  },
  {
   "cell_type": "code",
   "execution_count": 1,
   "id": "B7YYdTYMAfiI",
   "metadata": {
    "id": "B7YYdTYMAfiI"
   },
   "outputs": [],
   "source": [
    "# ### uncomment this cell if you're using Google colab\n",
    "# from google.colab import drive\n",
    "# drive.mount('/content/drive')\n",
    "\n",
    "# ### change GOOGLE_DRIVE_PATH to the path of your CP3 folder\n",
    "# GOOGLE_DRIVE_PATH = '/content/drive/MyDrive/Colab Notebooks/DL23SP/CP3'\n",
    "# %cd $GOOGLE_DRIVE_PATH\n",
    "\n",
    "# import sys\n",
    "# sys.path.append(GOOGLE_DRIVE_PATH)"
   ]
  },
  {
   "cell_type": "code",
   "execution_count": 2,
   "id": "432c2f99",
   "metadata": {
    "deletable": false,
    "editable": false,
    "id": "432c2f99",
    "nbgrader": {
     "cell_type": "code",
     "checksum": "1be81991fc43aa057279b92dfae126d0",
     "grade": false,
     "grade_id": "cell-1c233faf26d419be",
     "locked": true,
     "schema_version": 3,
     "solution": false,
     "task": false
    }
   },
   "outputs": [
    {
     "data": {
      "text/plain": [
       "<matplotlib.image.AxesImage at 0x24d4cf0f650>"
      ]
     },
     "execution_count": 2,
     "metadata": {},
     "output_type": "execute_result"
    },
    {
     "data": {
      "image/png": "[encoded data removed]",
      "text/plain": [
       "<Figure size 1100x800 with 2 Axes>"
      ]
     },
     "metadata": {},
     "output_type": "display_data"
    }
   ],
   "source": [
    "import matplotlib.pyplot as plt\n",
    "import matplotlib.image as mpimg\n",
    "from matplotlib import rcParams\n",
    "\n",
    "%matplotlib inline\n",
    "\n",
    "# figure size in inches optional\n",
    "rcParams['figure.figsize'] = 11, 8\n",
    "\n",
    "# read images\n",
    "img_A = mpimg.imread('./flow/recovered.png')\n",
    "img_B = mpimg.imread('./flow/corrupted.png')\n",
    "\n",
    "# display images\n",
    "fig, ax = plt.subplots(1, 2)\n",
    "ax[0].imshow(img_A)\n",
    "ax[1].imshow(img_B)"
   ]
  },
  {
   "attachments": {},
   "cell_type": "markdown",
   "id": "aaa645f3",
   "metadata": {
    "deletable": false,
    "editable": false,
    "id": "aaa645f3",
    "nbgrader": {
     "cell_type": "markdown",
     "checksum": "b07dfdad9bebb3b2d502df851cc87070",
     "grade": false,
     "grade_id": "cell-53585dd2f2b21500",
     "locked": true,
     "schema_version": 3,
     "solution": false,
     "task": false
    }
   },
   "source": [
    "### Submission\n",
    "\n",
    "You need to submit your code (this notebook), your trained model (named `./flow/flow_best.pth`), and your report:\n",
    "\n",
    "+ **Code**\n",
    "\n",
    "Remember to run all the cells before submission. Keep your tuned hyperparameters unchanged.\n",
    "\n",
    "+ **Model**\n",
    "\n",
    "In this notebook, we select the best model based on validation loss. You can also select the best model based on the MSE of inpainting, or manually select the best one, and save it as `./flow/flow_best.pth`. **Please do not submit any other checkpoints except for `./flow/flow_best.pth`!**\n",
    "\n",
    "+ **Report**\n",
    "\n",
    "Please include the inpainting results (i.e., inpainted images in a $10\\times 10$ array as above), the inpainting MSE on validataion set, and other relevant statistics (e.g. standard deviation) in your\n",
    "report. Note that you only need to write a single report for this coding project."
   ]
  },
  {
   "cell_type": "markdown",
   "id": "c7ddfa6f",
   "metadata": {
    "deletable": false,
    "editable": false,
    "id": "c7ddfa6f",
    "nbgrader": {
     "cell_type": "markdown",
     "checksum": "c20b645ac75902294d1d9707ac12bc80",
     "grade": false,
     "grade_id": "cell-c6a5c8475b46e7f0",
     "locked": true,
     "schema_version": 3,
     "solution": false,
     "task": false
    }
   },
   "source": [
    "### Grading\n",
    "\n",
    "We will grade your model based on your performance of inpainting."
   ]
  },
  {
   "cell_type": "markdown",
   "id": "3a90a8be",
   "metadata": {
    "deletable": false,
    "editable": false,
    "id": "3a90a8be",
    "nbgrader": {
     "cell_type": "markdown",
     "checksum": "7cf3d043fd7e45e2fadb23288a20f85f",
     "grade": false,
     "grade_id": "cell-527c7725f3508ba0",
     "locked": true,
     "schema_version": 3,
     "solution": false,
     "task": false
    }
   },
   "source": [
    "### Tips\n",
    "\n",
    "+ Read [Density estimation using Real NVP](https://arxiv.org/abs/1605.08803) and [NICE: Non-linear Independent Components Estimation](https://arxiv.org/abs/1410.8516) for more useful tricks."
   ]
  },
  {
   "cell_type": "markdown",
   "id": "dd040c70",
   "metadata": {
    "deletable": false,
    "editable": false,
    "id": "dd040c70",
    "nbgrader": {
     "cell_type": "markdown",
     "checksum": "54854fcdc1556d353b55bc4d1a133674",
     "grade": false,
     "grade_id": "cell-2b4bea3e44a7b81b",
     "locked": true,
     "schema_version": 3,
     "solution": false,
     "task": false
    }
   },
   "source": [
    "## Set Up Code"
   ]
  },
  {
   "cell_type": "markdown",
   "id": "4eca3738",
   "metadata": {
    "deletable": false,
    "editable": false,
    "id": "4eca3738",
    "nbgrader": {
     "cell_type": "markdown",
     "checksum": "8a46538ad10bf1933513126de21b52de",
     "grade": false,
     "grade_id": "cell-291232b1c59e4f02",
     "locked": true,
     "schema_version": 3,
     "solution": false,
     "task": false
    }
   },
   "source": [
    "If you use Colab in this coding project, please make sure to mount your drive before running the cells below."
   ]
  },
  {
   "cell_type": "code",
   "execution_count": 3,
   "id": "d8c2354b",
   "metadata": {
    "deletable": false,
    "editable": false,
    "id": "d8c2354b",
    "nbgrader": {
     "cell_type": "code",
     "checksum": "b34bc8b23f9c8e480a9671ef3453e7ac",
     "grade": false,
     "grade_id": "cell-a551fcc5ff27fb87",
     "locked": true,
     "schema_version": 3,
     "solution": false,
     "task": false
    }
   },
   "outputs": [],
   "source": [
    "%load_ext autoreload\n",
    "%autoreload 2"
   ]
  },
  {
   "cell_type": "code",
   "execution_count": 4,
   "id": "f6cd2080",
   "metadata": {
    "deletable": false,
    "editable": false,
    "id": "f6cd2080",
    "nbgrader": {
     "cell_type": "code",
     "checksum": "0d5d6f96e1d7ce5df1315172b57173de",
     "grade": false,
     "grade_id": "cell-e11eaf041d72deda",
     "locked": true,
     "schema_version": 3,
     "solution": false,
     "task": false
    }
   },
   "outputs": [
    {
     "name": "stdout",
     "output_type": "stream",
     "text": [
      "Good luck!\n"
     ]
    }
   ],
   "source": [
    "from utils import hello\n",
    "hello()"
   ]
  },
  {
   "cell_type": "markdown",
   "id": "cb9634e8",
   "metadata": {
    "deletable": false,
    "editable": false,
    "id": "cb9634e8",
    "nbgrader": {
     "cell_type": "markdown",
     "checksum": "51e49fe39dad00834a151f8221d720ef",
     "grade": false,
     "grade_id": "cell-fe84c884133acb94",
     "locked": true,
     "schema_version": 3,
     "solution": false,
     "task": false
    }
   },
   "source": [
    "Please run the following cell to import some base classes for implementation (no matter whether you use colab)."
   ]
  },
  {
   "cell_type": "code",
   "execution_count": 5,
   "id": "27bf0667",
   "metadata": {
    "deletable": false,
    "editable": false,
    "id": "27bf0667",
    "nbgrader": {
     "cell_type": "code",
     "checksum": "2bd53658c515f92e27ccdfbdb679836e",
     "grade": false,
     "grade_id": "cell-c0b91f0d2b7ecc80",
     "locked": true,
     "schema_version": 3,
     "solution": false,
     "task": false
    }
   },
   "outputs": [
    {
     "name": "stderr",
     "output_type": "stream",
     "text": [
      "C:\\Users\\Tommy\\AppData\\Local\\Temp\\ipykernel_18800\\3226180785.py:3: TqdmExperimentalWarning: Using `tqdm.autonotebook.tqdm` in notebook mode. Use `tqdm.tqdm` instead to force console mode (e.g. in jupyter console)\n",
      "  from tqdm.autonotebook import tqdm\n"
     ]
    }
   ],
   "source": [
    "from collections import deque\n",
    "from torch.utils.data import DataLoader\n",
    "from tqdm.autonotebook import tqdm\n",
    "\n",
    "import numpy as np\n",
    "import os\n",
    "import time\n",
    "import torch\n",
    "import torch.nn as nn\n",
    "import torch.nn.functional as F\n",
    "import torchvision\n",
    "\n",
    "from utils import save_model, load_model, corruption, train_set, val_set\n",
    "\n",
    "seed = 42\n",
    "np.random.seed(seed)\n",
    "torch.manual_seed(seed)\n",
    "torch.cuda.manual_seed(seed)\n",
    "torch.backends.cudnn.deterministic = True\n",
    "\n",
    "device = torch.device(\n",
    "    \"cuda\") if torch.cuda.is_available() else torch.device(\"cpu\")"
   ]
  },
  {
   "cell_type": "markdown",
   "id": "b6b02726",
   "metadata": {
    "deletable": false,
    "editable": false,
    "id": "b6b02726",
    "nbgrader": {
     "cell_type": "markdown",
     "checksum": "352479a98b6b9b2e56b163a01a85889d",
     "grade": false,
     "grade_id": "cell-57ca54e3c15c65e8",
     "locked": true,
     "schema_version": 3,
     "solution": false,
     "task": false
    }
   },
   "source": [
    "## Model"
   ]
  },
  {
   "cell_type": "markdown",
   "id": "669fcf6f",
   "metadata": {},
   "source": [
    "We follow the network architecture of Real NVP. In this section, **you are NOT supposed to change any parts except the missing codes.**"
   ]
  },
  {
   "cell_type": "code",
   "execution_count": 6,
   "id": "f403ef9a",
   "metadata": {
    "deletable": false,
    "editable": false,
    "id": "f403ef9a",
    "nbgrader": {
     "cell_type": "code",
     "checksum": "c4f821eceb900861d504b665adcc4e25",
     "grade": false,
     "grade_id": "cell-8be50069713f1219",
     "locked": true,
     "schema_version": 3,
     "solution": false,
     "task": false
    }
   },
   "outputs": [],
   "source": [
    "class BatchNormFlow(nn.Module):\n",
    "    \"\"\" An implementation of a batch normalization layer from\n",
    "    Density estimation using Real NVP\n",
    "    (https://arxiv.org/abs/1605.08803).\n",
    "    \"\"\"\n",
    "\n",
    "    def __init__(self, num_inputs, momentum=0.0, eps=1e-5):\n",
    "        super(BatchNormFlow, self).__init__()\n",
    "\n",
    "        self.log_gamma = nn.Parameter(torch.zeros(num_inputs))\n",
    "        self.beta = nn.Parameter(torch.zeros(num_inputs))\n",
    "        self.momentum = momentum\n",
    "        self.eps = eps\n",
    "\n",
    "        self.register_buffer('running_mean', torch.zeros(num_inputs))\n",
    "        self.register_buffer('running_var', torch.ones(num_inputs))\n",
    "\n",
    "    def forward(self, inputs, mode='direct', **kwargs):\n",
    "        if mode == 'direct':\n",
    "            if self.training:\n",
    "                self.batch_mean = inputs.mean(0)\n",
    "                self.batch_var = (\n",
    "                    inputs - self.batch_mean).pow(2).mean(0) + self.eps\n",
    "\n",
    "                self.running_mean.mul_(self.momentum)\n",
    "                self.running_var.mul_(self.momentum)\n",
    "\n",
    "                self.running_mean.add_(self.batch_mean.data *\n",
    "                                       (1 - self.momentum))\n",
    "                self.running_var.add_(self.batch_var.data *\n",
    "                                      (1 - self.momentum))\n",
    "\n",
    "                mean = self.batch_mean\n",
    "                var = self.batch_var\n",
    "            else:\n",
    "                mean = self.running_mean\n",
    "                var = self.running_var\n",
    "\n",
    "            x_hat = (inputs - mean) / var.sqrt()\n",
    "            y = torch.exp(self.log_gamma) * x_hat + self.beta\n",
    "            return y, (self.log_gamma - 0.5 * torch.log(var)).sum(-1, keepdim=True)\n",
    "        else:\n",
    "            if self.training:\n",
    "                mean = self.batch_mean\n",
    "                var = self.batch_var\n",
    "            else:\n",
    "                mean = self.running_mean\n",
    "                var = self.running_var\n",
    "\n",
    "            x_hat = (inputs - self.beta) / torch.exp(self.log_gamma)\n",
    "\n",
    "            y = x_hat * var.sqrt() + mean\n",
    "\n",
    "            return y, (- self.log_gamma + 0.5 * torch.log(var)).sum(-1, keepdim=True)"
   ]
  },
  {
   "cell_type": "code",
   "execution_count": 7,
   "id": "016d16a6",
   "metadata": {
    "deletable": false,
    "nbgrader": {
     "cell_type": "code",
     "checksum": "0ce0842b0f1eab006d60dd0073f0739f",
     "grade": false,
     "grade_id": "cell-79ce14d699d289f5",
     "locked": false,
     "schema_version": 3,
     "solution": true,
     "task": false
    }
   },
   "outputs": [],
   "source": [
    "class Shuffle(nn.Module):\n",
    "    \"\"\" An implementation of a shuffling layer from\n",
    "    Density estimation using Real NVP\n",
    "    (https://arxiv.org/abs/1605.08803).\n",
    "    \"\"\"\n",
    "\n",
    "    def __init__(self, num_inputs):\n",
    "        super(Shuffle, self).__init__()\n",
    "        self.perm = np.random.permutation(num_inputs)\n",
    "        self.inv_perm = np.argsort(self.perm)\n",
    "\n",
    "    def forward(self, inputs, mode='direct'):\n",
    "        n = self.perm.shape[0]\n",
    "        batch_size = inputs.size(0)\n",
    "        if mode == 'direct':\n",
    "            # return z = f(x) and logdet, z has the same shape with x, logdet has the shape (batch size, 1)\n",
    "            z = inputs[:, self.perm]\n",
    "            logdet = torch.zeros(batch_size, 1).to(inputs.device)\n",
    "            return z, logdet\n",
    "        else:\n",
    "            # return x = f^-1(z) and logdet, x has the same shape with z, logdet has the shape (batch size, 1)\n",
    "            z = inputs[:, self.inv_perm]\n",
    "            logdet = torch.zeros(batch_size, 1).to(inputs.device)\n",
    "            return z, logdet"
   ]
  },
  {
   "cell_type": "code",
   "execution_count": 8,
   "id": "ba1efd99",
   "metadata": {
    "deletable": false,
    "id": "ba1efd99",
    "nbgrader": {
     "cell_type": "code",
     "checksum": "3365a01b829fccee6aefa8b7e5c603f9",
     "grade": false,
     "grade_id": "cell-be0ebc8955344d32",
     "locked": false,
     "schema_version": 3,
     "solution": true,
     "task": false
    }
   },
   "outputs": [],
   "source": [
    "class CouplingLayer(nn.Module):\n",
    "    \"\"\" An implementation of a coupling layer\n",
    "    from RealNVP (https://arxiv.org/abs/1605.08803).\n",
    "    \"\"\"\n",
    "\n",
    "    def __init__(self,\n",
    "                 num_inputs,\n",
    "                 num_hidden,\n",
    "                 mask,\n",
    "                 s_act=nn.Tanh(),\n",
    "                 t_act=nn.LeakyReLU()):\n",
    "        super(CouplingLayer, self).__init__()\n",
    "\n",
    "        self.num_inputs = num_inputs\n",
    "        self.mask = mask\n",
    "\n",
    "        # define your scale_net and translate_net\n",
    "        self.scale_net = nn.Sequential(\n",
    "            nn.Linear(num_inputs, num_hidden),\n",
    "            nn.LayerNorm(num_hidden),\n",
    "            t_act,\n",
    "            nn.Linear(num_hidden, num_hidden),\n",
    "            nn.LayerNorm(num_hidden),\n",
    "            t_act,\n",
    "            nn.Linear(num_hidden, num_inputs),\n",
    "            s_act\n",
    "        )\n",
    "\n",
    "        self.translate_net = nn.Sequential(\n",
    "            nn.Linear(num_inputs, num_hidden),\n",
    "            nn.LayerNorm(num_hidden),\n",
    "            t_act,\n",
    "            nn.Linear(num_hidden, num_hidden),\n",
    "            nn.LayerNorm(num_hidden),\n",
    "            t_act,\n",
    "            nn.Linear(num_hidden, num_inputs)\n",
    "        )\n",
    "\n",
    "\n",
    "    def forward(self, x, mode='direct'):\n",
    "        mask = self.mask\n",
    "\n",
    "        masked_inputs = x * mask\n",
    "        log_s = self.scale_net(masked_inputs)*(1-mask)\n",
    "        s = torch.exp(log_s)\n",
    "        t = self.translate_net(masked_inputs)\n",
    "\n",
    "        if mode == 'direct':\n",
    "            # complete code here;  x - > z\n",
    "            # return z = f(x) and logdet, z has the same shape with x, logdet has the shape (batch size, 1)\n",
    "            z = masked_inputs + (1 - mask) * (x * s + t)\n",
    "            logdet = torch.sum(log_s, dim=1, keepdim=True)\n",
    "            return z, logdet\n",
    "        else:\n",
    "            # complete code here; z - > x\n",
    "            # return x = f^-1(z) and logdet, x has the same shape with z, logdet has the shape (batch size, 1)\n",
    "            x_recovered = masked_inputs + (1 - mask) * ((x - t) / s)\n",
    "            logdet = -torch.sum(log_s, dim=1, keepdim=True)\n",
    "            return x_recovered, logdet"
   ]
  },
  {
   "cell_type": "code",
   "execution_count": 9,
   "id": "9b8369d9",
   "metadata": {
    "deletable": false,
    "id": "9b8369d9",
    "nbgrader": {
     "cell_type": "code",
     "checksum": "262166bc26fac64145c7ce571cc0463c",
     "grade": false,
     "grade_id": "cell-bf556a05c31e3321",
     "locked": false,
     "schema_version": 3,
     "solution": true,
     "task": false
    }
   },
   "outputs": [],
   "source": [
    "class FlowSequential(nn.Sequential):\n",
    "    \"\"\" A sequential container for flows.\n",
    "    In addition to a forward pass it implements a backward pass and\n",
    "    computes log jacobians.\n",
    "    \"\"\"\n",
    "\n",
    "    def __init__(self, device, *args):\n",
    "        super().__init__(*args)\n",
    "        self.prior = torch.distributions.Normal(\n",
    "            torch.tensor([0.0]).to(device),\n",
    "            torch.tensor([1.0]).to(device)\n",
    "        )\n",
    "\n",
    "    def _pre_process(self, x):\n",
    "        \"\"\"\n",
    "        Args:\n",
    "            x (torch.Tensor): Input image.\n",
    "        Returns:\n",
    "            y (torch.Tensor): logits of `x`.\n",
    "        See Also:\n",
    "            - Modeling logits: https://arxiv.org/abs/1605.08803, Section 4.1\n",
    "        \"\"\"\n",
    "        return x.log() - (1. - x).log()\n",
    "\n",
    "    def forward(self, inputs, mode='direct', logdets=None, **kwargs):\n",
    "        \"\"\" Performs a forward or backward pass for flow modules.\n",
    "        Args:\n",
    "            inputs: a tuple of inputs and logdets\n",
    "            mode: to run direct computation or inverse\n",
    "        \"\"\"\n",
    "        self.num_inputs = inputs.size(-1)\n",
    "\n",
    "        if logdets is None:\n",
    "            logdets = torch.zeros(inputs.size(0), 1, device=inputs.device)\n",
    "\n",
    "        assert mode in ['direct', 'inverse']\n",
    "        if mode == 'direct':\n",
    "            if kwargs.get(\"pre_process\", True):\n",
    "                inputs = self._pre_process(inputs)\n",
    "            for module in self._modules.values():\n",
    "                inputs, logdet = module(inputs, mode)\n",
    "                logdets += logdet\n",
    "        else:\n",
    "            for module in reversed(self._modules.values()):\n",
    "                inputs, logdet = module(inputs, mode, **kwargs)\n",
    "                logdets += logdet\n",
    "\n",
    "        return inputs, logdets\n",
    "\n",
    "    def log_probs(self, inputs, pre_process=True):\n",
    "        u, log_jacob = self(inputs, pre_process=pre_process)\n",
    "        # return the log probability with shape (batch size, 1)\n",
    "        # Compute log probability of `u` under the prior Gaussian distribution\n",
    "        log_p_u = self.prior.log_prob(u).sum(dim=1, keepdim=True)\n",
    "        \n",
    "        # Total log probability: p(x) = p(u) + log |det J|\n",
    "        log_prob_x = log_p_u + log_jacob\n",
    "\n",
    "        return log_prob_x\n",
    "\n",
    "    @torch.no_grad()\n",
    "    def sample_images(self, n_samples=100, save=True, save_dir='./flow'):\n",
    "        self.eval()\n",
    "        samples, _ = self.forward(self.prior.sample([n_samples, 28 * 28]).squeeze(-1), mode='inverse')\n",
    "        imgs = torch.sigmoid(samples).view(n_samples, 1, 28, 28)\n",
    "        if save:\n",
    "            os.makedirs(save_dir, exist_ok=True)\n",
    "            torchvision.utils.save_image(imgs, os.path.join(save_dir, 'sample.png'), nrow=int(np.sqrt(n_samples)))\n",
    "        return imgs"
   ]
  },
  {
   "cell_type": "markdown",
   "id": "c767d273",
   "metadata": {
    "deletable": false,
    "editable": false,
    "id": "c767d273",
    "nbgrader": {
     "cell_type": "markdown",
     "checksum": "139bc4c5dff1b74c290faf9c972f04aa",
     "grade": false,
     "grade_id": "cell-33c8aa1958dfb9b0",
     "locked": true,
     "schema_version": 3,
     "solution": false,
     "task": false
    }
   },
   "source": [
    "## Inpainting\n",
    "\n",
    "We have implemented an example inpainting function.\n",
    "\n",
    "**You can modify the number of sampling steps in this function.**\n",
    "\n",
    "Hint: We set the number of sampling steps as 1000 by default, you can decrease the number of sampling steps for faster evaluation. Note that a small number of sampling steps may hurt the quality of generated samples and lead to bad evaluation result."
   ]
  },
  {
   "cell_type": "code",
   "execution_count": 10,
   "id": "f6801da4",
   "metadata": {
    "id": "f6801da4"
   },
   "outputs": [],
   "source": [
    "def inpainting(model, inputs, mask, device, save=True, save_dir='./flow/inpainting'):\n",
    "    num_samples = inputs.shape[0]\n",
    "#     torchvision.utils.save_image(inputs[:100], os.path.join(save_dir, 'corrupted.png'), nrow=10)\n",
    "    inputs = inputs.view(num_samples, -1).to(device)\n",
    "    mask = mask.view(num_samples, -1).to(device)\n",
    "    inputs = inputs.log() - (1. - inputs).log()\n",
    "\n",
    "    ep = torch.randn(inputs.size()).to(device)\n",
    "    os.makedirs(os.path.join(save_dir, 'recover_process'), exist_ok=True)\n",
    "    for i in range(1000):\n",
    "\n",
    "        alpha = 0.2\n",
    "        inputs.requires_grad_()\n",
    "        log_probs = model.log_probs(inputs, pre_process=False)\n",
    "        dx = torch.autograd.grad([log_probs.sum()], [inputs])[0]\n",
    "        dx = torch.clip(dx, -10, 10)\n",
    "\n",
    "        with torch.no_grad():\n",
    "            inputs = inputs * mask + (1 - mask) * (inputs + alpha * dx).clip(-10, 10)\n",
    "\n",
    "        imgs = torch.sigmoid(inputs.view(num_samples, 1, 28, 28))\n",
    "\n",
    "        if i % 10 == 0 and save:\n",
    "            torchvision.utils.save_image(imgs[:100], os.path.join(\n",
    "                save_dir, 'recover_process/recovered_iter{:03d}.png'.format(i + 1)), nrow=10)\n",
    "    if save:\n",
    "        torchvision.utils.save_image(imgs[:100], os.path.join(\n",
    "        save_dir, 'recovered.png'.format(i + 1)), nrow=10)\n",
    "    return imgs"
   ]
  },
  {
   "cell_type": "markdown",
   "id": "52ca8975",
   "metadata": {},
   "source": [
    "## Evaluation and Training\n",
    "\n",
    "We have implemented evaluation and training function for you. You should not modify `evaluate`. In `train`, you can modify the training code as long as you correctly save the best model in `'./flow/flow_best.pth'`."
   ]
  },
  {
   "cell_type": "code",
   "execution_count": 11,
   "id": "1030e12e",
   "metadata": {
    "deletable": false,
    "editable": false,
    "id": "1030e12e",
    "nbgrader": {
     "cell_type": "code",
     "checksum": "aa5522ce7e3292ef4ba54b2b4d851756",
     "grade": false,
     "grade_id": "cell-892116baf6341344",
     "locked": true,
     "schema_version": 3,
     "solution": false,
     "task": false
    }
   },
   "outputs": [],
   "source": [
    "def evaluate(epoch, flow_model, loader, device):\n",
    "    flow_model.eval()\n",
    "    val_loss = c_mse = r_mse = 0\n",
    "    n_batches = 0\n",
    "\n",
    "    pbar = tqdm(total=len(loader.dataset))\n",
    "    pbar.set_description('Eval')\n",
    "    for batch_idx, (data, _) in enumerate(loader):\n",
    "        bs = data.shape[0]\n",
    "        n_batches += data.shape[0]\n",
    "        data = data.to(device)\n",
    "\n",
    "        # compute validation loss\n",
    "        with torch.no_grad():\n",
    "            # sum up batch loss\n",
    "            val_loss += -flow_model.log_probs(data.reshape(bs, -1)).sum().item()\n",
    "\n",
    "        # inpainting\n",
    "        imgs = data\n",
    "        c_imgs, mask = corruption(imgs, type_='flow')\n",
    "        r_imgs = inpainting(flow_model, c_imgs, mask, device,\n",
    "                   save=(batch_idx == 0), save_dir=f\"./flow/{epoch + 1}/\")\n",
    "        r_mse += ((imgs.view(bs, -1) - r_imgs.view(bs, -1))**2).sum().item()\n",
    "        c_mse += ((imgs.view(bs, -1) - c_imgs.view(bs, -1))**2).sum().item()\n",
    "\n",
    "        pbar.update(data.size(0))\n",
    "        pbar.set_description('Val, Log likelihood in nats: {:.6f}, Corruption MSE: {:.6f}, Recovered MSE: {:.6f}'.format(\n",
    "            -val_loss / n_batches, c_mse / n_batches, r_mse / n_batches))\n",
    "\n",
    "    pbar.close()\n",
    "    return val_loss / n_batches, c_mse / n_batches, r_mse / n_batches"
   ]
  },
  {
   "cell_type": "code",
   "execution_count": 12,
   "id": "c6608159",
   "metadata": {
    "id": "c6608159"
   },
   "outputs": [],
   "source": [
    "def train(n_epochs, flow_model, train_loader, val_loader, optimizer, device=torch.device('cuda'), save_interval=1):\n",
    "    flow_model.to(device)\n",
    "    best_val_loss = np.inf\n",
    "\n",
    "    for epoch in range(n_epochs):\n",
    "        train_loss = 0\n",
    "        n_batches = 0\n",
    "        pbar = tqdm(total=len(train_loader.dataset))\n",
    "        for i, (x, _) in enumerate(train_loader):\n",
    "            # compute loss\n",
    "            n_batches += x.shape[0]\n",
    "            flow_model.train()\n",
    "            x = x.to(device)\n",
    "            loss = -flow_model.log_probs(x.reshape(x.shape[0], -1))\n",
    "            optimizer.zero_grad()\n",
    "            loss.mean().backward()\n",
    "            optimizer.step()\n",
    "\n",
    "            train_loss += loss.sum().item()\n",
    "\n",
    "            pbar.update(x.size(0))\n",
    "            pbar.set_description('Train Epoch {}, Log likelihood in nats: {:.6f}'.format(epoch + 1,\n",
    "                                                                                         -train_loss / n_batches))\n",
    "        pbar.close()\n",
    "\n",
    "        if (epoch + 1) % save_interval == 0:\n",
    "            os.makedirs(f'./flow/{epoch + 1}', exist_ok=True)\n",
    "            flow_model.eval()\n",
    "            save_model(f'./flow/{epoch + 1}/flow.pth', flow_model, optimizer)\n",
    "\n",
    "            val_loss, c_mse, r_mse = evaluate(epoch, flow_model, val_loader, device)\n",
    "\n",
    "            # sample and save images\n",
    "            flow_model.sample_images(\n",
    "                save=True, save_dir=f\"./flow/{epoch + 1}/\")\n",
    "\n",
    "            # feel free to change the following metric to MSE for model selection!\n",
    "            if val_loss < best_val_loss:\n",
    "                print(\n",
    "                    f'Current validation loss: {best_val_loss} -> {val_loss}')\n",
    "                best_val_loss = val_loss\n",
    "                save_model('./flow/flow_best.pth', flow_model)"
   ]
  },
  {
   "cell_type": "markdown",
   "id": "0d70eac1",
   "metadata": {},
   "source": [
    "Here we set up the model."
   ]
  },
  {
   "cell_type": "code",
   "execution_count": 13,
   "id": "c52420ea",
   "metadata": {},
   "outputs": [
    {
     "data": {
      "text/plain": [
       "FlowSequential(\n",
       "  (0): CouplingLayer(\n",
       "    (scale_net): Sequential(\n",
       "      (0): Linear(in_features=784, out_features=512, bias=True)\n",
       "      (1): LayerNorm((512,), eps=1e-05, elementwise_affine=True)\n",
       "      (2): LeakyReLU(negative_slope=0.01)\n",
       "      (3): Linear(in_features=512, out_features=512, bias=True)\n",
       "      (4): LayerNorm((512,), eps=1e-05, elementwise_affine=True)\n",
       "      (5): LeakyReLU(negative_slope=0.01)\n",
       "      (6): Linear(in_features=512, out_features=784, bias=True)\n",
       "      (7): Tanh()\n",
       "    )\n",
       "    (translate_net): Sequential(\n",
       "      (0): Linear(in_features=784, out_features=512, bias=True)\n",
       "      (1): LayerNorm((512,), eps=1e-05, elementwise_affine=True)\n",
       "      (2): LeakyReLU(negative_slope=0.01)\n",
       "      (3): Linear(in_features=512, out_features=512, bias=True)\n",
       "      (4): LayerNorm((512,), eps=1e-05, elementwise_affine=True)\n",
       "      (5): LeakyReLU(negative_slope=0.01)\n",
       "      (6): Linear(in_features=512, out_features=784, bias=True)\n",
       "    )\n",
       "  )\n",
       "  (1): BatchNormFlow()\n",
       "  (2): Shuffle()\n",
       "  (3): CouplingLayer(\n",
       "    (scale_net): Sequential(\n",
       "      (0): Linear(in_features=784, out_features=512, bias=True)\n",
       "      (1): LayerNorm((512,), eps=1e-05, elementwise_affine=True)\n",
       "      (2): LeakyReLU(negative_slope=0.01)\n",
       "      (3): Linear(in_features=512, out_features=512, bias=True)\n",
       "      (4): LayerNorm((512,), eps=1e-05, elementwise_affine=True)\n",
       "      (5): LeakyReLU(negative_slope=0.01)\n",
       "      (6): Linear(in_features=512, out_features=784, bias=True)\n",
       "      (7): Tanh()\n",
       "    )\n",
       "    (translate_net): Sequential(\n",
       "      (0): Linear(in_features=784, out_features=512, bias=True)\n",
       "      (1): LayerNorm((512,), eps=1e-05, elementwise_affine=True)\n",
       "      (2): LeakyReLU(negative_slope=0.01)\n",
       "      (3): Linear(in_features=512, out_features=512, bias=True)\n",
       "      (4): LayerNorm((512,), eps=1e-05, elementwise_affine=True)\n",
       "      (5): LeakyReLU(negative_slope=0.01)\n",
       "      (6): Linear(in_features=512, out_features=784, bias=True)\n",
       "    )\n",
       "  )\n",
       "  (4): BatchNormFlow()\n",
       "  (5): Shuffle()\n",
       "  (6): CouplingLayer(\n",
       "    (scale_net): Sequential(\n",
       "      (0): Linear(in_features=784, out_features=512, bias=True)\n",
       "      (1): LayerNorm((512,), eps=1e-05, elementwise_affine=True)\n",
       "      (2): LeakyReLU(negative_slope=0.01)\n",
       "      (3): Linear(in_features=512, out_features=512, bias=True)\n",
       "      (4): LayerNorm((512,), eps=1e-05, elementwise_affine=True)\n",
       "      (5): LeakyReLU(negative_slope=0.01)\n",
       "      (6): Linear(in_features=512, out_features=784, bias=True)\n",
       "      (7): Tanh()\n",
       "    )\n",
       "    (translate_net): Sequential(\n",
       "      (0): Linear(in_features=784, out_features=512, bias=True)\n",
       "      (1): LayerNorm((512,), eps=1e-05, elementwise_affine=True)\n",
       "      (2): LeakyReLU(negative_slope=0.01)\n",
       "      (3): Linear(in_features=512, out_features=512, bias=True)\n",
       "      (4): LayerNorm((512,), eps=1e-05, elementwise_affine=True)\n",
       "      (5): LeakyReLU(negative_slope=0.01)\n",
       "      (6): Linear(in_features=512, out_features=784, bias=True)\n",
       "    )\n",
       "  )\n",
       "  (7): BatchNormFlow()\n",
       "  (8): Shuffle()\n",
       "  (9): CouplingLayer(\n",
       "    (scale_net): Sequential(\n",
       "      (0): Linear(in_features=784, out_features=512, bias=True)\n",
       "      (1): LayerNorm((512,), eps=1e-05, elementwise_affine=True)\n",
       "      (2): LeakyReLU(negative_slope=0.01)\n",
       "      (3): Linear(in_features=512, out_features=512, bias=True)\n",
       "      (4): LayerNorm((512,), eps=1e-05, elementwise_affine=True)\n",
       "      (5): LeakyReLU(negative_slope=0.01)\n",
       "      (6): Linear(in_features=512, out_features=784, bias=True)\n",
       "      (7): Tanh()\n",
       "    )\n",
       "    (translate_net): Sequential(\n",
       "      (0): Linear(in_features=784, out_features=512, bias=True)\n",
       "      (1): LayerNorm((512,), eps=1e-05, elementwise_affine=True)\n",
       "      (2): LeakyReLU(negative_slope=0.01)\n",
       "      (3): Linear(in_features=512, out_features=512, bias=True)\n",
       "      (4): LayerNorm((512,), eps=1e-05, elementwise_affine=True)\n",
       "      (5): LeakyReLU(negative_slope=0.01)\n",
       "      (6): Linear(in_features=512, out_features=784, bias=True)\n",
       "    )\n",
       "  )\n",
       "  (10): BatchNormFlow()\n",
       "  (11): Shuffle()\n",
       "  (12): CouplingLayer(\n",
       "    (scale_net): Sequential(\n",
       "      (0): Linear(in_features=784, out_features=512, bias=True)\n",
       "      (1): LayerNorm((512,), eps=1e-05, elementwise_affine=True)\n",
       "      (2): LeakyReLU(negative_slope=0.01)\n",
       "      (3): Linear(in_features=512, out_features=512, bias=True)\n",
       "      (4): LayerNorm((512,), eps=1e-05, elementwise_affine=True)\n",
       "      (5): LeakyReLU(negative_slope=0.01)\n",
       "      (6): Linear(in_features=512, out_features=784, bias=True)\n",
       "      (7): Tanh()\n",
       "    )\n",
       "    (translate_net): Sequential(\n",
       "      (0): Linear(in_features=784, out_features=512, bias=True)\n",
       "      (1): LayerNorm((512,), eps=1e-05, elementwise_affine=True)\n",
       "      (2): LeakyReLU(negative_slope=0.01)\n",
       "      (3): Linear(in_features=512, out_features=512, bias=True)\n",
       "      (4): LayerNorm((512,), eps=1e-05, elementwise_affine=True)\n",
       "      (5): LeakyReLU(negative_slope=0.01)\n",
       "      (6): Linear(in_features=512, out_features=784, bias=True)\n",
       "    )\n",
       "  )\n",
       "  (13): BatchNormFlow()\n",
       "  (14): Shuffle()\n",
       "  (15): CouplingLayer(\n",
       "    (scale_net): Sequential(\n",
       "      (0): Linear(in_features=784, out_features=512, bias=True)\n",
       "      (1): LayerNorm((512,), eps=1e-05, elementwise_affine=True)\n",
       "      (2): LeakyReLU(negative_slope=0.01)\n",
       "      (3): Linear(in_features=512, out_features=512, bias=True)\n",
       "      (4): LayerNorm((512,), eps=1e-05, elementwise_affine=True)\n",
       "      (5): LeakyReLU(negative_slope=0.01)\n",
       "      (6): Linear(in_features=512, out_features=784, bias=True)\n",
       "      (7): Tanh()\n",
       "    )\n",
       "    (translate_net): Sequential(\n",
       "      (0): Linear(in_features=784, out_features=512, bias=True)\n",
       "      (1): LayerNorm((512,), eps=1e-05, elementwise_affine=True)\n",
       "      (2): LeakyReLU(negative_slope=0.01)\n",
       "      (3): Linear(in_features=512, out_features=512, bias=True)\n",
       "      (4): LayerNorm((512,), eps=1e-05, elementwise_affine=True)\n",
       "      (5): LeakyReLU(negative_slope=0.01)\n",
       "      (6): Linear(in_features=512, out_features=784, bias=True)\n",
       "    )\n",
       "  )\n",
       "  (16): BatchNormFlow()\n",
       "  (17): Shuffle()\n",
       "  (18): CouplingLayer(\n",
       "    (scale_net): Sequential(\n",
       "      (0): Linear(in_features=784, out_features=512, bias=True)\n",
       "      (1): LayerNorm((512,), eps=1e-05, elementwise_affine=True)\n",
       "      (2): LeakyReLU(negative_slope=0.01)\n",
       "      (3): Linear(in_features=512, out_features=512, bias=True)\n",
       "      (4): LayerNorm((512,), eps=1e-05, elementwise_affine=True)\n",
       "      (5): LeakyReLU(negative_slope=0.01)\n",
       "      (6): Linear(in_features=512, out_features=784, bias=True)\n",
       "      (7): Tanh()\n",
       "    )\n",
       "    (translate_net): Sequential(\n",
       "      (0): Linear(in_features=784, out_features=512, bias=True)\n",
       "      (1): LayerNorm((512,), eps=1e-05, elementwise_affine=True)\n",
       "      (2): LeakyReLU(negative_slope=0.01)\n",
       "      (3): Linear(in_features=512, out_features=512, bias=True)\n",
       "      (4): LayerNorm((512,), eps=1e-05, elementwise_affine=True)\n",
       "      (5): LeakyReLU(negative_slope=0.01)\n",
       "      (6): Linear(in_features=512, out_features=784, bias=True)\n",
       "    )\n",
       "  )\n",
       "  (19): BatchNormFlow()\n",
       "  (20): Shuffle()\n",
       "  (21): CouplingLayer(\n",
       "    (scale_net): Sequential(\n",
       "      (0): Linear(in_features=784, out_features=512, bias=True)\n",
       "      (1): LayerNorm((512,), eps=1e-05, elementwise_affine=True)\n",
       "      (2): LeakyReLU(negative_slope=0.01)\n",
       "      (3): Linear(in_features=512, out_features=512, bias=True)\n",
       "      (4): LayerNorm((512,), eps=1e-05, elementwise_affine=True)\n",
       "      (5): LeakyReLU(negative_slope=0.01)\n",
       "      (6): Linear(in_features=512, out_features=784, bias=True)\n",
       "      (7): Tanh()\n",
       "    )\n",
       "    (translate_net): Sequential(\n",
       "      (0): Linear(in_features=784, out_features=512, bias=True)\n",
       "      (1): LayerNorm((512,), eps=1e-05, elementwise_affine=True)\n",
       "      (2): LeakyReLU(negative_slope=0.01)\n",
       "      (3): Linear(in_features=512, out_features=512, bias=True)\n",
       "      (4): LayerNorm((512,), eps=1e-05, elementwise_affine=True)\n",
       "      (5): LeakyReLU(negative_slope=0.01)\n",
       "      (6): Linear(in_features=512, out_features=784, bias=True)\n",
       "    )\n",
       "  )\n",
       "  (22): BatchNormFlow()\n",
       "  (23): Shuffle()\n",
       ")"
      ]
     },
     "execution_count": 13,
     "metadata": {},
     "output_type": "execute_result"
    }
   ],
   "source": [
    "num_inputs = 28 * 28\n",
    "num_hidden = 512\n",
    "num_blocks = 8\n",
    "\n",
    "modules = []\n",
    "masks = []\n",
    "\n",
    "mask = torch.arange(0, num_inputs) % 2\n",
    "mask = mask.to(device).float()\n",
    "masks.extend([mask, 1 - mask])\n",
    "mask2 = torch.zeros_like(mask)\n",
    "mask2[: num_inputs//2] = 1\n",
    "masks.extend([mask2, 1 - mask2])\n",
    "\n",
    "for i in range(num_blocks):\n",
    "    modules += [\n",
    "        CouplingLayer(\n",
    "            num_inputs, num_hidden, masks[i % len(masks)]),\n",
    "        BatchNormFlow(num_inputs, 0.1),\n",
    "        Shuffle(num_inputs)\n",
    "    ]\n",
    "\n",
    "model = FlowSequential(device, *modules)\n",
    "\n",
    "for module in model.modules():\n",
    "    if isinstance(module, nn.Linear):\n",
    "        # nn.init.orthogonal_(module.weight)\n",
    "        nn.init.xavier_normal_(module.weight)\n",
    "        if hasattr(module, 'bias') and module.bias is not None:\n",
    "            module.bias.data.fill_(0)\n",
    "\n",
    "model.to(device)"
   ]
  },
  {
   "cell_type": "markdown",
   "id": "44bbc7ca",
   "metadata": {},
   "source": [
    "DataLoader for validation"
   ]
  },
  {
   "cell_type": "code",
   "execution_count": 14,
   "id": "65dcd46d",
   "metadata": {
    "deletable": false,
    "editable": false,
    "nbgrader": {
     "cell_type": "code",
     "checksum": "e14e69bc84678743efb84532e5f9e398",
     "grade": false,
     "grade_id": "cell-a1d70451c7d2ed9a",
     "locked": true,
     "schema_version": 3,
     "solution": false,
     "task": false
    }
   },
   "outputs": [],
   "source": [
    "\n",
    "val_loader = DataLoader(val_set, batch_size=500, pin_memory=True,  shuffle=True, num_workers=1)"
   ]
  },
  {
   "cell_type": "markdown",
   "id": "aee86165",
   "metadata": {},
   "source": [
    "Now we can set up the train DataLoader, the optimizer and start training, you can modify training hyperparameters in this block. Please keep in mind that this cell may **NOT** be run when we evaluate your assignment!"
   ]
  },
  {
   "cell_type": "code",
   "execution_count": 15,
   "id": "7caf6b8f",
   "metadata": {},
   "outputs": [
    {
     "data": {
      "application/vnd.jupyter.widget-view+json": {
       "model_id": "9ed0ec5693444830b909784af66542a4",
       "version_major": 2,
       "version_minor": 0
      },
      "text/plain": [
       "  0%|          | 0/60000 [00:00<?, ?it/s]"
      ]
     },
     "metadata": {},
     "output_type": "display_data"
    },
    {
     "data": {
      "application/vnd.jupyter.widget-view+json": {
       "model_id": "b3bde289c61d413fa8b7e31dd1c5e411",
       "version_major": 2,
       "version_minor": 0
      },
      "text/plain": [
       "  0%|          | 0/60000 [00:00<?, ?it/s]"
      ]
     },
     "metadata": {},
     "output_type": "display_data"
    },
    {
     "data": {
      "application/vnd.jupyter.widget-view+json": {
       "model_id": "d17e5d3512f94a5e9d1c54365c35060b",
       "version_major": 2,
       "version_minor": 0
      },
      "text/plain": [
       "  0%|          | 0/60000 [00:00<?, ?it/s]"
      ]
     },
     "metadata": {},
     "output_type": "display_data"
    },
    {
     "data": {
      "application/vnd.jupyter.widget-view+json": {
       "model_id": "8622b673263b4e56bea4b01000433e3a",
       "version_major": 2,
       "version_minor": 0
      },
      "text/plain": [
       "  0%|          | 0/60000 [00:00<?, ?it/s]"
      ]
     },
     "metadata": {},
     "output_type": "display_data"
    },
    {
     "data": {
      "application/vnd.jupyter.widget-view+json": {
       "model_id": "1cde6d5a6d814fdb8db922d617c8bf75",
       "version_major": 2,
       "version_minor": 0
      },
      "text/plain": [
       "  0%|          | 0/60000 [00:00<?, ?it/s]"
      ]
     },
     "metadata": {},
     "output_type": "display_data"
    },
    {
     "data": {
      "application/vnd.jupyter.widget-view+json": {
       "model_id": "e5f2d2b887c04b5081fc65fc97dd218b",
       "version_major": 2,
       "version_minor": 0
      },
      "text/plain": [
       "  0%|          | 0/60000 [00:00<?, ?it/s]"
      ]
     },
     "metadata": {},
     "output_type": "display_data"
    },
    {
     "data": {
      "application/vnd.jupyter.widget-view+json": {
       "model_id": "94cace7f70a442f6a097740d2c6e799d",
       "version_major": 2,
       "version_minor": 0
      },
      "text/plain": [
       "  0%|          | 0/60000 [00:00<?, ?it/s]"
      ]
     },
     "metadata": {},
     "output_type": "display_data"
    },
    {
     "data": {
      "application/vnd.jupyter.widget-view+json": {
       "model_id": "3ea0e36fbaee43599261679745d41a57",
       "version_major": 2,
       "version_minor": 0
      },
      "text/plain": [
       "  0%|          | 0/60000 [00:00<?, ?it/s]"
      ]
     },
     "metadata": {},
     "output_type": "display_data"
    },
    {
     "data": {
      "application/vnd.jupyter.widget-view+json": {
       "model_id": "4f4666da1fb64049b51132681b47e833",
       "version_major": 2,
       "version_minor": 0
      },
      "text/plain": [
       "  0%|          | 0/60000 [00:00<?, ?it/s]"
      ]
     },
     "metadata": {},
     "output_type": "display_data"
    },
    {
     "data": {
      "application/vnd.jupyter.widget-view+json": {
       "model_id": "878a72b99690456ca32e7a8ac3ae5bcf",
       "version_major": 2,
       "version_minor": 0
      },
      "text/plain": [
       "  0%|          | 0/60000 [00:00<?, ?it/s]"
      ]
     },
     "metadata": {},
     "output_type": "display_data"
    },
    {
     "data": {
      "application/vnd.jupyter.widget-view+json": {
       "model_id": "d107d714161540deb05cb338f537d47b",
       "version_major": 2,
       "version_minor": 0
      },
      "text/plain": [
       "  0%|          | 0/10000 [00:00<?, ?it/s]"
      ]
     },
     "metadata": {},
     "output_type": "display_data"
    },
    {
     "name": "stdout",
     "output_type": "stream",
     "text": [
      "Current validation loss: inf -> 1184.38005625\n"
     ]
    },
    {
     "data": {
      "application/vnd.jupyter.widget-view+json": {
       "model_id": "b52ff3811680431583f9b5ab894ed225",
       "version_major": 2,
       "version_minor": 0
      },
      "text/plain": [
       "  0%|          | 0/60000 [00:00<?, ?it/s]"
      ]
     },
     "metadata": {},
     "output_type": "display_data"
    },
    {
     "data": {
      "application/vnd.jupyter.widget-view+json": {
       "model_id": "091cfb90463b4f148f22f1ad603a6b0a",
       "version_major": 2,
       "version_minor": 0
      },
      "text/plain": [
       "  0%|          | 0/60000 [00:00<?, ?it/s]"
      ]
     },
     "metadata": {},
     "output_type": "display_data"
    },
    {
     "data": {
      "application/vnd.jupyter.widget-view+json": {
       "model_id": "93ab76fff6ea4226a84dc5608e66b702",
       "version_major": 2,
       "version_minor": 0
      },
      "text/plain": [
       "  0%|          | 0/60000 [00:00<?, ?it/s]"
      ]
     },
     "metadata": {},
     "output_type": "display_data"
    },
    {
     "data": {
      "application/vnd.jupyter.widget-view+json": {
       "model_id": "57f6a95506174884a2ac0229d6074b56",
       "version_major": 2,
       "version_minor": 0
      },
      "text/plain": [
       "  0%|          | 0/60000 [00:00<?, ?it/s]"
      ]
     },
     "metadata": {},
     "output_type": "display_data"
    },
    {
     "data": {
      "application/vnd.jupyter.widget-view+json": {
       "model_id": "b5f77244d56e458492466e80bd4e703d",
       "version_major": 2,
       "version_minor": 0
      },
      "text/plain": [
       "  0%|          | 0/60000 [00:00<?, ?it/s]"
      ]
     },
     "metadata": {},
     "output_type": "display_data"
    },
    {
     "data": {
      "application/vnd.jupyter.widget-view+json": {
       "model_id": "2da2ed094092437482d88294b075edd7",
       "version_major": 2,
       "version_minor": 0
      },
      "text/plain": [
       "  0%|          | 0/60000 [00:00<?, ?it/s]"
      ]
     },
     "metadata": {},
     "output_type": "display_data"
    },
    {
     "data": {
      "application/vnd.jupyter.widget-view+json": {
       "model_id": "391705a41f4e42c0bf7bc0c4a2684049",
       "version_major": 2,
       "version_minor": 0
      },
      "text/plain": [
       "  0%|          | 0/60000 [00:00<?, ?it/s]"
      ]
     },
     "metadata": {},
     "output_type": "display_data"
    },
    {
     "data": {
      "application/vnd.jupyter.widget-view+json": {
       "model_id": "f8236597be9442dabef00823a68fe3d3",
       "version_major": 2,
       "version_minor": 0
      },
      "text/plain": [
       "  0%|          | 0/60000 [00:00<?, ?it/s]"
      ]
     },
     "metadata": {},
     "output_type": "display_data"
    },
    {
     "data": {
      "application/vnd.jupyter.widget-view+json": {
       "model_id": "ceccdbe4ae0c404d8c23d2175d0a0fd5",
       "version_major": 2,
       "version_minor": 0
      },
      "text/plain": [
       "  0%|          | 0/60000 [00:00<?, ?it/s]"
      ]
     },
     "metadata": {},
     "output_type": "display_data"
    },
    {
     "data": {
      "application/vnd.jupyter.widget-view+json": {
       "model_id": "84cfd553c445422187fc860f19cab0c8",
       "version_major": 2,
       "version_minor": 0
      },
      "text/plain": [
       "  0%|          | 0/60000 [00:00<?, ?it/s]"
      ]
     },
     "metadata": {},
     "output_type": "display_data"
    },
    {
     "data": {
      "application/vnd.jupyter.widget-view+json": {
       "model_id": "32586aad0adf4524a85c255d94152a1f",
       "version_major": 2,
       "version_minor": 0
      },
      "text/plain": [
       "  0%|          | 0/10000 [00:00<?, ?it/s]"
      ]
     },
     "metadata": {},
     "output_type": "display_data"
    },
    {
     "name": "stdout",
     "output_type": "stream",
     "text": [
      "Current validation loss: 1184.38005625 -> 1162.6302125\n"
     ]
    },
    {
     "data": {
      "application/vnd.jupyter.widget-view+json": {
       "model_id": "ee26097612674e78b8d8194b547dcc2d",
       "version_major": 2,
       "version_minor": 0
      },
      "text/plain": [
       "  0%|          | 0/60000 [00:00<?, ?it/s]"
      ]
     },
     "metadata": {},
     "output_type": "display_data"
    },
    {
     "data": {
      "application/vnd.jupyter.widget-view+json": {
       "model_id": "7e87427fcf13420985d22c249013112a",
       "version_major": 2,
       "version_minor": 0
      },
      "text/plain": [
       "  0%|          | 0/60000 [00:00<?, ?it/s]"
      ]
     },
     "metadata": {},
     "output_type": "display_data"
    },
    {
     "data": {
      "application/vnd.jupyter.widget-view+json": {
       "model_id": "384046c367d343b690671d22c41233e1",
       "version_major": 2,
       "version_minor": 0
      },
      "text/plain": [
       "  0%|          | 0/60000 [00:00<?, ?it/s]"
      ]
     },
     "metadata": {},
     "output_type": "display_data"
    },
    {
     "data": {
      "application/vnd.jupyter.widget-view+json": {
       "model_id": "e480fb556e0542ca814ec2a827a19958",
       "version_major": 2,
       "version_minor": 0
      },
      "text/plain": [
       "  0%|          | 0/60000 [00:00<?, ?it/s]"
      ]
     },
     "metadata": {},
     "output_type": "display_data"
    },
    {
     "data": {
      "application/vnd.jupyter.widget-view+json": {
       "model_id": "b4f337a43c8d49709f48b24c30580fb2",
       "version_major": 2,
       "version_minor": 0
      },
      "text/plain": [
       "  0%|          | 0/60000 [00:00<?, ?it/s]"
      ]
     },
     "metadata": {},
     "output_type": "display_data"
    },
    {
     "data": {
      "application/vnd.jupyter.widget-view+json": {
       "model_id": "4fb8f2b04ea243c8b6eae85890e7e606",
       "version_major": 2,
       "version_minor": 0
      },
      "text/plain": [
       "  0%|          | 0/60000 [00:00<?, ?it/s]"
      ]
     },
     "metadata": {},
     "output_type": "display_data"
    },
    {
     "data": {
      "application/vnd.jupyter.widget-view+json": {
       "model_id": "153205eea6dc4c73b2250f50e07770af",
       "version_major": 2,
       "version_minor": 0
      },
      "text/plain": [
       "  0%|          | 0/60000 [00:00<?, ?it/s]"
      ]
     },
     "metadata": {},
     "output_type": "display_data"
    },
    {
     "data": {
      "application/vnd.jupyter.widget-view+json": {
       "model_id": "c84b01e004004a74b65fd4e3ae3a5f08",
       "version_major": 2,
       "version_minor": 0
      },
      "text/plain": [
       "  0%|          | 0/60000 [00:00<?, ?it/s]"
      ]
     },
     "metadata": {},
     "output_type": "display_data"
    },
    {
     "data": {
      "application/vnd.jupyter.widget-view+json": {
       "model_id": "3f3ff07715a4404ab778145c3af8570e",
       "version_major": 2,
       "version_minor": 0
      },
      "text/plain": [
       "  0%|          | 0/60000 [00:00<?, ?it/s]"
      ]
     },
     "metadata": {},
     "output_type": "display_data"
    },
    {
     "data": {
      "application/vnd.jupyter.widget-view+json": {
       "model_id": "8fe231d4591c443bbfdc2df96213826e",
       "version_major": 2,
       "version_minor": 0
      },
      "text/plain": [
       "  0%|          | 0/60000 [00:00<?, ?it/s]"
      ]
     },
     "metadata": {},
     "output_type": "display_data"
    },
    {
     "data": {
      "application/vnd.jupyter.widget-view+json": {
       "model_id": "ace9947705aa45518a1c9acfa47f78c4",
       "version_major": 2,
       "version_minor": 0
      },
      "text/plain": [
       "  0%|          | 0/10000 [00:00<?, ?it/s]"
      ]
     },
     "metadata": {},
     "output_type": "display_data"
    },
    {
     "name": "stdout",
     "output_type": "stream",
     "text": [
      "Current validation loss: 1162.6302125 -> 1149.06215\n"
     ]
    },
    {
     "data": {
      "application/vnd.jupyter.widget-view+json": {
       "model_id": "47d25403f4e44d22beec2508cac1aee6",
       "version_major": 2,
       "version_minor": 0
      },
      "text/plain": [
       "  0%|          | 0/60000 [00:00<?, ?it/s]"
      ]
     },
     "metadata": {},
     "output_type": "display_data"
    },
    {
     "data": {
      "application/vnd.jupyter.widget-view+json": {
       "model_id": "bd94ce46cb3845959dae4ece4c3fcd6d",
       "version_major": 2,
       "version_minor": 0
      },
      "text/plain": [
       "  0%|          | 0/60000 [00:00<?, ?it/s]"
      ]
     },
     "metadata": {},
     "output_type": "display_data"
    },
    {
     "data": {
      "application/vnd.jupyter.widget-view+json": {
       "model_id": "49ec14bae5f344bfb0fe5818bcb6aa3f",
       "version_major": 2,
       "version_minor": 0
      },
      "text/plain": [
       "  0%|          | 0/60000 [00:00<?, ?it/s]"
      ]
     },
     "metadata": {},
     "output_type": "display_data"
    },
    {
     "data": {
      "application/vnd.jupyter.widget-view+json": {
       "model_id": "e5e817cc190441bea3fc378c84042964",
       "version_major": 2,
       "version_minor": 0
      },
      "text/plain": [
       "  0%|          | 0/60000 [00:00<?, ?it/s]"
      ]
     },
     "metadata": {},
     "output_type": "display_data"
    },
    {
     "data": {
      "application/vnd.jupyter.widget-view+json": {
       "model_id": "a8ae32d80ced4027bb3129cae3f8e9bc",
       "version_major": 2,
       "version_minor": 0
      },
      "text/plain": [
       "  0%|          | 0/60000 [00:00<?, ?it/s]"
      ]
     },
     "metadata": {},
     "output_type": "display_data"
    },
    {
     "data": {
      "application/vnd.jupyter.widget-view+json": {
       "model_id": "ac98de22b84e4d7d962463ee67e2aefe",
       "version_major": 2,
       "version_minor": 0
      },
      "text/plain": [
       "  0%|          | 0/60000 [00:00<?, ?it/s]"
      ]
     },
     "metadata": {},
     "output_type": "display_data"
    },
    {
     "data": {
      "application/vnd.jupyter.widget-view+json": {
       "model_id": "ecd14705bbfe446a83ce15402289002a",
       "version_major": 2,
       "version_minor": 0
      },
      "text/plain": [
       "  0%|          | 0/60000 [00:00<?, ?it/s]"
      ]
     },
     "metadata": {},
     "output_type": "display_data"
    },
    {
     "data": {
      "application/vnd.jupyter.widget-view+json": {
       "model_id": "5e2645ba9d0e404e89dec5bea0258a16",
       "version_major": 2,
       "version_minor": 0
      },
      "text/plain": [
       "  0%|          | 0/60000 [00:00<?, ?it/s]"
      ]
     },
     "metadata": {},
     "output_type": "display_data"
    },
    {
     "data": {
      "application/vnd.jupyter.widget-view+json": {
       "model_id": "5ec6f7f1128c4b9ca68f47a7171488ab",
       "version_major": 2,
       "version_minor": 0
      },
      "text/plain": [
       "  0%|          | 0/60000 [00:00<?, ?it/s]"
      ]
     },
     "metadata": {},
     "output_type": "display_data"
    },
    {
     "data": {
      "application/vnd.jupyter.widget-view+json": {
       "model_id": "e79dcf56c91b49a7ac3a180a38ac40fc",
       "version_major": 2,
       "version_minor": 0
      },
      "text/plain": [
       "  0%|          | 0/60000 [00:00<?, ?it/s]"
      ]
     },
     "metadata": {},
     "output_type": "display_data"
    },
    {
     "data": {
      "application/vnd.jupyter.widget-view+json": {
       "model_id": "3e9f0b1c19534403b9e4aeec1c0b1583",
       "version_major": 2,
       "version_minor": 0
      },
      "text/plain": [
       "  0%|          | 0/10000 [00:00<?, ?it/s]"
      ]
     },
     "metadata": {},
     "output_type": "display_data"
    },
    {
     "name": "stdout",
     "output_type": "stream",
     "text": [
      "Current validation loss: 1149.06215 -> 1141.72781875\n"
     ]
    },
    {
     "data": {
      "application/vnd.jupyter.widget-view+json": {
       "model_id": "f0d19af2645a4fc297826225df073d72",
       "version_major": 2,
       "version_minor": 0
      },
      "text/plain": [
       "  0%|          | 0/60000 [00:00<?, ?it/s]"
      ]
     },
     "metadata": {},
     "output_type": "display_data"
    },
    {
     "data": {
      "application/vnd.jupyter.widget-view+json": {
       "model_id": "8fde4ca4549746eab43a2e869f4c351b",
       "version_major": 2,
       "version_minor": 0
      },
      "text/plain": [
       "  0%|          | 0/60000 [00:00<?, ?it/s]"
      ]
     },
     "metadata": {},
     "output_type": "display_data"
    },
    {
     "data": {
      "application/vnd.jupyter.widget-view+json": {
       "model_id": "f96c5ca60a534f55b70f52ea955493d4",
       "version_major": 2,
       "version_minor": 0
      },
      "text/plain": [
       "  0%|          | 0/60000 [00:00<?, ?it/s]"
      ]
     },
     "metadata": {},
     "output_type": "display_data"
    },
    {
     "data": {
      "application/vnd.jupyter.widget-view+json": {
       "model_id": "8d2e403a307143699c93e70782907461",
       "version_major": 2,
       "version_minor": 0
      },
      "text/plain": [
       "  0%|          | 0/60000 [00:00<?, ?it/s]"
      ]
     },
     "metadata": {},
     "output_type": "display_data"
    },
    {
     "data": {
      "application/vnd.jupyter.widget-view+json": {
       "model_id": "76030b2d54904075a54fb70e8b2911f1",
       "version_major": 2,
       "version_minor": 0
      },
      "text/plain": [
       "  0%|          | 0/60000 [00:00<?, ?it/s]"
      ]
     },
     "metadata": {},
     "output_type": "display_data"
    },
    {
     "data": {
      "application/vnd.jupyter.widget-view+json": {
       "model_id": "917493370bde4a618a11c9c0bca7fadf",
       "version_major": 2,
       "version_minor": 0
      },
      "text/plain": [
       "  0%|          | 0/60000 [00:00<?, ?it/s]"
      ]
     },
     "metadata": {},
     "output_type": "display_data"
    },
    {
     "data": {
      "application/vnd.jupyter.widget-view+json": {
       "model_id": "dff0ccdbaff74300a7df3a2f71ade037",
       "version_major": 2,
       "version_minor": 0
      },
      "text/plain": [
       "  0%|          | 0/60000 [00:00<?, ?it/s]"
      ]
     },
     "metadata": {},
     "output_type": "display_data"
    },
    {
     "data": {
      "application/vnd.jupyter.widget-view+json": {
       "model_id": "86915886be7141cdbdf4b7820c0ca759",
       "version_major": 2,
       "version_minor": 0
      },
      "text/plain": [
       "  0%|          | 0/60000 [00:00<?, ?it/s]"
      ]
     },
     "metadata": {},
     "output_type": "display_data"
    },
    {
     "data": {
      "application/vnd.jupyter.widget-view+json": {
       "model_id": "77a4a337523e4e8d9b5ac33799d8aa27",
       "version_major": 2,
       "version_minor": 0
      },
      "text/plain": [
       "  0%|          | 0/60000 [00:00<?, ?it/s]"
      ]
     },
     "metadata": {},
     "output_type": "display_data"
    },
    {
     "data": {
      "application/vnd.jupyter.widget-view+json": {
       "model_id": "a5aab24317554a328bb4141b85902f7c",
       "version_major": 2,
       "version_minor": 0
      },
      "text/plain": [
       "  0%|          | 0/60000 [00:00<?, ?it/s]"
      ]
     },
     "metadata": {},
     "output_type": "display_data"
    },
    {
     "data": {
      "application/vnd.jupyter.widget-view+json": {
       "model_id": "63eb11b620844093aebb120f5b7cf726",
       "version_major": 2,
       "version_minor": 0
      },
      "text/plain": [
       "  0%|          | 0/10000 [00:00<?, ?it/s]"
      ]
     },
     "metadata": {},
     "output_type": "display_data"
    },
    {
     "name": "stdout",
     "output_type": "stream",
     "text": [
      "Current validation loss: 1141.72781875 -> 1134.65725\n"
     ]
    },
    {
     "data": {
      "application/vnd.jupyter.widget-view+json": {
       "model_id": "75fc7a05e65a4b5a84f2093f4bc8efda",
       "version_major": 2,
       "version_minor": 0
      },
      "text/plain": [
       "  0%|          | 0/60000 [00:00<?, ?it/s]"
      ]
     },
     "metadata": {},
     "output_type": "display_data"
    },
    {
     "data": {
      "application/vnd.jupyter.widget-view+json": {
       "model_id": "40200491f14a41708f8856ccc1e883ca",
       "version_major": 2,
       "version_minor": 0
      },
      "text/plain": [
       "  0%|          | 0/60000 [00:00<?, ?it/s]"
      ]
     },
     "metadata": {},
     "output_type": "display_data"
    },
    {
     "data": {
      "application/vnd.jupyter.widget-view+json": {
       "model_id": "d6461a7fc1b44c02a0064117633341f1",
       "version_major": 2,
       "version_minor": 0
      },
      "text/plain": [
       "  0%|          | 0/60000 [00:00<?, ?it/s]"
      ]
     },
     "metadata": {},
     "output_type": "display_data"
    },
    {
     "data": {
      "application/vnd.jupyter.widget-view+json": {
       "model_id": "b936697b100642dc93dbbd962d3907ec",
       "version_major": 2,
       "version_minor": 0
      },
      "text/plain": [
       "  0%|          | 0/60000 [00:00<?, ?it/s]"
      ]
     },
     "metadata": {},
     "output_type": "display_data"
    },
    {
     "data": {
      "application/vnd.jupyter.widget-view+json": {
       "model_id": "8c12277c1cb54350b728cadbc76bc7e6",
       "version_major": 2,
       "version_minor": 0
      },
      "text/plain": [
       "  0%|          | 0/60000 [00:00<?, ?it/s]"
      ]
     },
     "metadata": {},
     "output_type": "display_data"
    },
    {
     "data": {
      "application/vnd.jupyter.widget-view+json": {
       "model_id": "153d7f1ff29d44c093fba9c739dff8e0",
       "version_major": 2,
       "version_minor": 0
      },
      "text/plain": [
       "  0%|          | 0/60000 [00:00<?, ?it/s]"
      ]
     },
     "metadata": {},
     "output_type": "display_data"
    },
    {
     "data": {
      "application/vnd.jupyter.widget-view+json": {
       "model_id": "35df7762691545c58a0339c6f20e4abc",
       "version_major": 2,
       "version_minor": 0
      },
      "text/plain": [
       "  0%|          | 0/60000 [00:00<?, ?it/s]"
      ]
     },
     "metadata": {},
     "output_type": "display_data"
    },
    {
     "data": {
      "application/vnd.jupyter.widget-view+json": {
       "model_id": "d4f4d3838caa40e19a054e737ed34bca",
       "version_major": 2,
       "version_minor": 0
      },
      "text/plain": [
       "  0%|          | 0/60000 [00:00<?, ?it/s]"
      ]
     },
     "metadata": {},
     "output_type": "display_data"
    },
    {
     "data": {
      "application/vnd.jupyter.widget-view+json": {
       "model_id": "1585a26d170944fea353abe9d2864bac",
       "version_major": 2,
       "version_minor": 0
      },
      "text/plain": [
       "  0%|          | 0/60000 [00:00<?, ?it/s]"
      ]
     },
     "metadata": {},
     "output_type": "display_data"
    },
    {
     "data": {
      "application/vnd.jupyter.widget-view+json": {
       "model_id": "d6017c1bf2fd4d28a4f150461bd2e5a7",
       "version_major": 2,
       "version_minor": 0
      },
      "text/plain": [
       "  0%|          | 0/60000 [00:00<?, ?it/s]"
      ]
     },
     "metadata": {},
     "output_type": "display_data"
    },
    {
     "data": {
      "application/vnd.jupyter.widget-view+json": {
       "model_id": "4c3ce62b3b5342dbb01e399e256accc4",
       "version_major": 2,
       "version_minor": 0
      },
      "text/plain": [
       "  0%|          | 0/10000 [00:00<?, ?it/s]"
      ]
     },
     "metadata": {},
     "output_type": "display_data"
    },
    {
     "data": {
      "application/vnd.jupyter.widget-view+json": {
       "model_id": "25d89984333e4a9db22cff101f3f01b0",
       "version_major": 2,
       "version_minor": 0
      },
      "text/plain": [
       "  0%|          | 0/60000 [00:00<?, ?it/s]"
      ]
     },
     "metadata": {},
     "output_type": "display_data"
    },
    {
     "data": {
      "application/vnd.jupyter.widget-view+json": {
       "model_id": "6daa14232793418ba95e022bd0913e76",
       "version_major": 2,
       "version_minor": 0
      },
      "text/plain": [
       "  0%|          | 0/60000 [00:00<?, ?it/s]"
      ]
     },
     "metadata": {},
     "output_type": "display_data"
    },
    {
     "data": {
      "application/vnd.jupyter.widget-view+json": {
       "model_id": "94050dd6f4874c5d9982bc3322112925",
       "version_major": 2,
       "version_minor": 0
      },
      "text/plain": [
       "  0%|          | 0/60000 [00:00<?, ?it/s]"
      ]
     },
     "metadata": {},
     "output_type": "display_data"
    },
    {
     "data": {
      "application/vnd.jupyter.widget-view+json": {
       "model_id": "d40f9d4b95374a14aaeb7c813df24041",
       "version_major": 2,
       "version_minor": 0
      },
      "text/plain": [
       "  0%|          | 0/60000 [00:00<?, ?it/s]"
      ]
     },
     "metadata": {},
     "output_type": "display_data"
    },
    {
     "data": {
      "application/vnd.jupyter.widget-view+json": {
       "model_id": "2280fdcf07734a5d956f7c7ce80eee4d",
       "version_major": 2,
       "version_minor": 0
      },
      "text/plain": [
       "  0%|          | 0/60000 [00:00<?, ?it/s]"
      ]
     },
     "metadata": {},
     "output_type": "display_data"
    },
    {
     "data": {
      "application/vnd.jupyter.widget-view+json": {
       "model_id": "14f796c262ee4eaa8780fc8d483bb09f",
       "version_major": 2,
       "version_minor": 0
      },
      "text/plain": [
       "  0%|          | 0/60000 [00:00<?, ?it/s]"
      ]
     },
     "metadata": {},
     "output_type": "display_data"
    },
    {
     "data": {
      "application/vnd.jupyter.widget-view+json": {
       "model_id": "b5b7932581494697b38005483f04fd51",
       "version_major": 2,
       "version_minor": 0
      },
      "text/plain": [
       "  0%|          | 0/60000 [00:00<?, ?it/s]"
      ]
     },
     "metadata": {},
     "output_type": "display_data"
    },
    {
     "data": {
      "application/vnd.jupyter.widget-view+json": {
       "model_id": "86d040e59df54436bdba259a05972432",
       "version_major": 2,
       "version_minor": 0
      },
      "text/plain": [
       "  0%|          | 0/60000 [00:00<?, ?it/s]"
      ]
     },
     "metadata": {},
     "output_type": "display_data"
    },
    {
     "data": {
      "application/vnd.jupyter.widget-view+json": {
       "model_id": "db681916fd3c4964bb5c2e880b20e7b8",
       "version_major": 2,
       "version_minor": 0
      },
      "text/plain": [
       "  0%|          | 0/60000 [00:00<?, ?it/s]"
      ]
     },
     "metadata": {},
     "output_type": "display_data"
    },
    {
     "data": {
      "application/vnd.jupyter.widget-view+json": {
       "model_id": "746de65cdd3f44abaaf36b73b74d299f",
       "version_major": 2,
       "version_minor": 0
      },
      "text/plain": [
       "  0%|          | 0/60000 [00:00<?, ?it/s]"
      ]
     },
     "metadata": {},
     "output_type": "display_data"
    },
    {
     "data": {
      "application/vnd.jupyter.widget-view+json": {
       "model_id": "2f032b601ceb47dfbda3afcb1944abca",
       "version_major": 2,
       "version_minor": 0
      },
      "text/plain": [
       "  0%|          | 0/10000 [00:00<?, ?it/s]"
      ]
     },
     "metadata": {},
     "output_type": "display_data"
    },
    {
     "name": "stdout",
     "output_type": "stream",
     "text": [
      "Current validation loss: 1134.65725 -> 1130.355325\n"
     ]
    },
    {
     "data": {
      "application/vnd.jupyter.widget-view+json": {
       "model_id": "acece4ab63cd4952b09ac9476f6b9aac",
       "version_major": 2,
       "version_minor": 0
      },
      "text/plain": [
       "  0%|          | 0/60000 [00:00<?, ?it/s]"
      ]
     },
     "metadata": {},
     "output_type": "display_data"
    },
    {
     "data": {
      "application/vnd.jupyter.widget-view+json": {
       "model_id": "20b91c9f64a7441aab4a751239d257a2",
       "version_major": 2,
       "version_minor": 0
      },
      "text/plain": [
       "  0%|          | 0/60000 [00:00<?, ?it/s]"
      ]
     },
     "metadata": {},
     "output_type": "display_data"
    },
    {
     "data": {
      "application/vnd.jupyter.widget-view+json": {
       "model_id": "10f80e252116446496d6790a13ae2f41",
       "version_major": 2,
       "version_minor": 0
      },
      "text/plain": [
       "  0%|          | 0/60000 [00:00<?, ?it/s]"
      ]
     },
     "metadata": {},
     "output_type": "display_data"
    },
    {
     "data": {
      "application/vnd.jupyter.widget-view+json": {
       "model_id": "455fd1b73b684a74bd8e68eb07004ae7",
       "version_major": 2,
       "version_minor": 0
      },
      "text/plain": [
       "  0%|          | 0/60000 [00:00<?, ?it/s]"
      ]
     },
     "metadata": {},
     "output_type": "display_data"
    },
    {
     "data": {
      "application/vnd.jupyter.widget-view+json": {
       "model_id": "bcdefe2a1df546069268114ee4680cde",
       "version_major": 2,
       "version_minor": 0
      },
      "text/plain": [
       "  0%|          | 0/60000 [00:00<?, ?it/s]"
      ]
     },
     "metadata": {},
     "output_type": "display_data"
    },
    {
     "data": {
      "application/vnd.jupyter.widget-view+json": {
       "model_id": "a9974527626845349e49064d0ca3fcec",
       "version_major": 2,
       "version_minor": 0
      },
      "text/plain": [
       "  0%|          | 0/60000 [00:00<?, ?it/s]"
      ]
     },
     "metadata": {},
     "output_type": "display_data"
    },
    {
     "data": {
      "application/vnd.jupyter.widget-view+json": {
       "model_id": "5c5ab8e264b2454288dbbd38150f798e",
       "version_major": 2,
       "version_minor": 0
      },
      "text/plain": [
       "  0%|          | 0/60000 [00:00<?, ?it/s]"
      ]
     },
     "metadata": {},
     "output_type": "display_data"
    },
    {
     "data": {
      "application/vnd.jupyter.widget-view+json": {
       "model_id": "c875a3871f844833ab896f3526180f17",
       "version_major": 2,
       "version_minor": 0
      },
      "text/plain": [
       "  0%|          | 0/60000 [00:00<?, ?it/s]"
      ]
     },
     "metadata": {},
     "output_type": "display_data"
    },
    {
     "data": {
      "application/vnd.jupyter.widget-view+json": {
       "model_id": "a5c55c8ac8b64dc98e0014c73f8c824c",
       "version_major": 2,
       "version_minor": 0
      },
      "text/plain": [
       "  0%|          | 0/60000 [00:00<?, ?it/s]"
      ]
     },
     "metadata": {},
     "output_type": "display_data"
    },
    {
     "data": {
      "application/vnd.jupyter.widget-view+json": {
       "model_id": "475194eb889242e9825abda62c8b3479",
       "version_major": 2,
       "version_minor": 0
      },
      "text/plain": [
       "  0%|          | 0/60000 [00:00<?, ?it/s]"
      ]
     },
     "metadata": {},
     "output_type": "display_data"
    },
    {
     "data": {
      "application/vnd.jupyter.widget-view+json": {
       "model_id": "ba67851f8c714d56927408824c7c38c3",
       "version_major": 2,
       "version_minor": 0
      },
      "text/plain": [
       "  0%|          | 0/10000 [00:00<?, ?it/s]"
      ]
     },
     "metadata": {},
     "output_type": "display_data"
    },
    {
     "name": "stdout",
     "output_type": "stream",
     "text": [
      "Current validation loss: 1130.355325 -> 1129.9976625\n"
     ]
    },
    {
     "data": {
      "application/vnd.jupyter.widget-view+json": {
       "model_id": "d84870242d044749807f7c465ba00ce7",
       "version_major": 2,
       "version_minor": 0
      },
      "text/plain": [
       "  0%|          | 0/60000 [00:00<?, ?it/s]"
      ]
     },
     "metadata": {},
     "output_type": "display_data"
    },
    {
     "data": {
      "application/vnd.jupyter.widget-view+json": {
       "model_id": "f8db4e3d08c14312a56e226966f07a90",
       "version_major": 2,
       "version_minor": 0
      },
      "text/plain": [
       "  0%|          | 0/60000 [00:00<?, ?it/s]"
      ]
     },
     "metadata": {},
     "output_type": "display_data"
    },
    {
     "data": {
      "application/vnd.jupyter.widget-view+json": {
       "model_id": "6a338d83c874412babb2d9a80f47c03a",
       "version_major": 2,
       "version_minor": 0
      },
      "text/plain": [
       "  0%|          | 0/60000 [00:00<?, ?it/s]"
      ]
     },
     "metadata": {},
     "output_type": "display_data"
    },
    {
     "data": {
      "application/vnd.jupyter.widget-view+json": {
       "model_id": "d7668091abce41ec956292fde63dac2a",
       "version_major": 2,
       "version_minor": 0
      },
      "text/plain": [
       "  0%|          | 0/60000 [00:00<?, ?it/s]"
      ]
     },
     "metadata": {},
     "output_type": "display_data"
    },
    {
     "data": {
      "application/vnd.jupyter.widget-view+json": {
       "model_id": "94faaa57cd8c40839b362b59cdbad292",
       "version_major": 2,
       "version_minor": 0
      },
      "text/plain": [
       "  0%|          | 0/60000 [00:00<?, ?it/s]"
      ]
     },
     "metadata": {},
     "output_type": "display_data"
    },
    {
     "data": {
      "application/vnd.jupyter.widget-view+json": {
       "model_id": "11a92a5397584e5f85eff224c7d9a2f0",
       "version_major": 2,
       "version_minor": 0
      },
      "text/plain": [
       "  0%|          | 0/60000 [00:00<?, ?it/s]"
      ]
     },
     "metadata": {},
     "output_type": "display_data"
    },
    {
     "data": {
      "application/vnd.jupyter.widget-view+json": {
       "model_id": "8e1c59ad9b4544b6ae902bda80cdfb5e",
       "version_major": 2,
       "version_minor": 0
      },
      "text/plain": [
       "  0%|          | 0/60000 [00:00<?, ?it/s]"
      ]
     },
     "metadata": {},
     "output_type": "display_data"
    },
    {
     "data": {
      "application/vnd.jupyter.widget-view+json": {
       "model_id": "a420774adb4a4d5ebf0049eb41b9c94a",
       "version_major": 2,
       "version_minor": 0
      },
      "text/plain": [
       "  0%|          | 0/60000 [00:00<?, ?it/s]"
      ]
     },
     "metadata": {},
     "output_type": "display_data"
    },
    {
     "data": {
      "application/vnd.jupyter.widget-view+json": {
       "model_id": "9f2c92a126d94a91a1b0d6514bded493",
       "version_major": 2,
       "version_minor": 0
      },
      "text/plain": [
       "  0%|          | 0/60000 [00:00<?, ?it/s]"
      ]
     },
     "metadata": {},
     "output_type": "display_data"
    },
    {
     "data": {
      "application/vnd.jupyter.widget-view+json": {
       "model_id": "ec0c26bb015a4af9b621fafd93462047",
       "version_major": 2,
       "version_minor": 0
      },
      "text/plain": [
       "  0%|          | 0/60000 [00:00<?, ?it/s]"
      ]
     },
     "metadata": {},
     "output_type": "display_data"
    },
    {
     "data": {
      "application/vnd.jupyter.widget-view+json": {
       "model_id": "c9c0c139e3cf41e8bc877d2ba4dc67af",
       "version_major": 2,
       "version_minor": 0
      },
      "text/plain": [
       "  0%|          | 0/10000 [00:00<?, ?it/s]"
      ]
     },
     "metadata": {},
     "output_type": "display_data"
    },
    {
     "name": "stdout",
     "output_type": "stream",
     "text": [
      "Current validation loss: 1129.9976625 -> 1126.5976\n"
     ]
    },
    {
     "data": {
      "application/vnd.jupyter.widget-view+json": {
       "model_id": "89f73a3815dc475bbedf30e355375c6d",
       "version_major": 2,
       "version_minor": 0
      },
      "text/plain": [
       "  0%|          | 0/60000 [00:00<?, ?it/s]"
      ]
     },
     "metadata": {},
     "output_type": "display_data"
    },
    {
     "data": {
      "application/vnd.jupyter.widget-view+json": {
       "model_id": "67f8abb6ba0b48abad8ffb038a4dea13",
       "version_major": 2,
       "version_minor": 0
      },
      "text/plain": [
       "  0%|          | 0/60000 [00:00<?, ?it/s]"
      ]
     },
     "metadata": {},
     "output_type": "display_data"
    },
    {
     "data": {
      "application/vnd.jupyter.widget-view+json": {
       "model_id": "0fe80c888c2d4784b5bc9bb6397acdf5",
       "version_major": 2,
       "version_minor": 0
      },
      "text/plain": [
       "  0%|          | 0/60000 [00:00<?, ?it/s]"
      ]
     },
     "metadata": {},
     "output_type": "display_data"
    },
    {
     "data": {
      "application/vnd.jupyter.widget-view+json": {
       "model_id": "9d4a56c15ce042ad8d0940680fc9a271",
       "version_major": 2,
       "version_minor": 0
      },
      "text/plain": [
       "  0%|          | 0/60000 [00:00<?, ?it/s]"
      ]
     },
     "metadata": {},
     "output_type": "display_data"
    },
    {
     "data": {
      "application/vnd.jupyter.widget-view+json": {
       "model_id": "1b898433899048a0b1d59c0b60d40d55",
       "version_major": 2,
       "version_minor": 0
      },
      "text/plain": [
       "  0%|          | 0/60000 [00:00<?, ?it/s]"
      ]
     },
     "metadata": {},
     "output_type": "display_data"
    },
    {
     "data": {
      "application/vnd.jupyter.widget-view+json": {
       "model_id": "73536bd7d715441f908dc48b8053a46d",
       "version_major": 2,
       "version_minor": 0
      },
      "text/plain": [
       "  0%|          | 0/60000 [00:00<?, ?it/s]"
      ]
     },
     "metadata": {},
     "output_type": "display_data"
    },
    {
     "data": {
      "application/vnd.jupyter.widget-view+json": {
       "model_id": "f3e8bda387aa4bad99824a676244cdc3",
       "version_major": 2,
       "version_minor": 0
      },
      "text/plain": [
       "  0%|          | 0/60000 [00:00<?, ?it/s]"
      ]
     },
     "metadata": {},
     "output_type": "display_data"
    },
    {
     "data": {
      "application/vnd.jupyter.widget-view+json": {
       "model_id": "23f4be46bb7e4f87a7d328213d482b94",
       "version_major": 2,
       "version_minor": 0
      },
      "text/plain": [
       "  0%|          | 0/60000 [00:00<?, ?it/s]"
      ]
     },
     "metadata": {},
     "output_type": "display_data"
    },
    {
     "data": {
      "application/vnd.jupyter.widget-view+json": {
       "model_id": "c1545952084047269e9c061563fdff9f",
       "version_major": 2,
       "version_minor": 0
      },
      "text/plain": [
       "  0%|          | 0/60000 [00:00<?, ?it/s]"
      ]
     },
     "metadata": {},
     "output_type": "display_data"
    },
    {
     "data": {
      "application/vnd.jupyter.widget-view+json": {
       "model_id": "6271870b67f5489da0c7ded5cc2ae3d0",
       "version_major": 2,
       "version_minor": 0
      },
      "text/plain": [
       "  0%|          | 0/60000 [00:00<?, ?it/s]"
      ]
     },
     "metadata": {},
     "output_type": "display_data"
    },
    {
     "data": {
      "application/vnd.jupyter.widget-view+json": {
       "model_id": "b7359de7059142a7b2959a7e7950668a",
       "version_major": 2,
       "version_minor": 0
      },
      "text/plain": [
       "  0%|          | 0/10000 [00:00<?, ?it/s]"
      ]
     },
     "metadata": {},
     "output_type": "display_data"
    },
    {
     "name": "stdout",
     "output_type": "stream",
     "text": [
      "Current validation loss: 1126.5976 -> 1126.15425625\n"
     ]
    }
   ],
   "source": [
    "# feel free to change training hyper-parameters!\n",
    "train_loader = DataLoader(train_set, batch_size=128, pin_memory=True,\n",
    "                          drop_last=False, shuffle=True, num_workers=8)\n",
    "\n",
    "optimizer = torch.optim.Adam(model.parameters(), lr=1e-4, weight_decay=1e-6)\n",
    "\n",
    "train(100, model, train_loader, val_loader, optimizer, device, save_interval=10)"
   ]
  },
  {
   "cell_type": "markdown",
   "id": "7c3c3f70",
   "metadata": {
    "deletable": false,
    "editable": false,
    "id": "7c3c3f70",
    "nbgrader": {
     "cell_type": "markdown",
     "checksum": "e772498e4fea97cbfd4d5d15fbe09e27",
     "grade": false,
     "grade_id": "cell-79d1880c40b38577",
     "locked": true,
     "schema_version": 3,
     "solution": false,
     "task": false
    }
   },
   "source": [
    "## Evaluation\n",
    "\n",
    "Make sure your code runs fine with the following cell. "
   ]
  },
  {
   "cell_type": "code",
   "execution_count": 16,
   "id": "057ef7fb",
   "metadata": {
    "deletable": false,
    "editable": false,
    "id": "057ef7fb",
    "nbgrader": {
     "cell_type": "code",
     "checksum": "683f6bc32235a143a302497d11061518",
     "grade": false,
     "grade_id": "cell-bb10aa2ccbdc5038",
     "locked": true,
     "schema_version": 3,
     "solution": false,
     "task": false
    }
   },
   "outputs": [
    {
     "name": "stderr",
     "output_type": "stream",
     "text": [
      "d:\\课程\\大二下\\深度学习\\CodingProject3\\utils.py:26: FutureWarning: You are using `torch.load` with `weights_only=False` (the current default value), which uses the default pickle module implicitly. It is possible to construct malicious pickle data which will execute arbitrary code during unpickling (See https://github.com/pytorch/pytorch/blob/main/SECURITY.md#untrusted-models for more details). In a future release, the default value for `weights_only` will be flipped to `True`. This limits the functions that could be executed during unpickling. Arbitrary objects will no longer be allowed to be loaded via this mode unless they are explicitly allowlisted by the user via `torch.serialization.add_safe_globals`. We recommend you start setting `weights_only=True` for any use case where you don't have full control of the loaded file. Please open an issue on GitHub for any issues related to this experimental feature.\n",
      "  checkpoint = torch.load(load_path)\n"
     ]
    },
    {
     "data": {
      "application/vnd.jupyter.widget-view+json": {
       "model_id": "6bdb6ece075b4e35b0606cdf41e4ba58",
       "version_major": 2,
       "version_minor": 0
      },
      "text/plain": [
       "  0%|          | 0/10000 [00:00<?, ?it/s]"
      ]
     },
     "metadata": {},
     "output_type": "display_data"
    },
    {
     "name": "stdout",
     "output_type": "stream",
     "text": [
      "[Evaluation] val_loss: 1126.470225, c_mse: 51.8848912109375, r_mse: 28.669938671875\n"
     ]
    }
   ],
   "source": [
    "model.load_state_dict(load_model('./flow/flow_best.pth')[0])\n",
    "val_loss, c_mse, r_mse = evaluate(int(1e4), model, val_loader, device)\n",
    "print(\"[Evaluation] val_loss: {}, c_mse: {}, r_mse: {}\".format(val_loss, c_mse, r_mse), flush=True)"
   ]
  }
 ],
 "metadata": {
  "colab": {
   "provenance": []
  },
  "kernelspec": {
   "display_name": "Python 3",
   "language": "python",
   "name": "python3"
  },
  "language_info": {
   "codemirror_mode": {
    "name": "ipython",
    "version": 3
   },
   "file_extension": ".py",
   "mimetype": "text/x-python",
   "name": "python",
   "nbconvert_exporter": "python",
   "pygments_lexer": "ipython3",
   "version": "3.12.7"
  },
  "toc": {
   "base_numbering": 1,
   "nav_menu": {},
   "number_sections": false,
   "sideBar": true,
   "skip_h1_title": false,
   "title_cell": "Table of Contents",
   "title_sidebar": "Contents",
   "toc_cell": false,
   "toc_position": {},
   "toc_section_display": true,
   "toc_window_display": false
  }
 },
 "nbformat": 4,
 "nbformat_minor": 5
}
